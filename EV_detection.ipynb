{
 "cells": [
  {
   "cell_type": "markdown",
   "metadata": {},
   "source": [
    "# Examination of Houshold Energy Use and Electric Vehicles\n",
    "### Samuel Sherman \n",
    "### May 2016 "
   ]
  },
  {
   "cell_type": "markdown",
   "metadata": {},
   "source": [
    "## Data Examination"
   ]
  },
  {
   "cell_type": "code",
   "execution_count": 1,
   "metadata": {
    "collapsed": false
   },
   "outputs": [
    {
     "data": {
      "text/html": [
       "<div>\n",
       "<table border=\"1\" class=\"dataframe\">\n",
       "  <thead>\n",
       "    <tr style=\"text-align: right;\">\n",
       "      <th></th>\n",
       "      <th>Interval_1</th>\n",
       "      <th>Interval_2</th>\n",
       "      <th>Interval_3</th>\n",
       "      <th>Interval_4</th>\n",
       "      <th>Interval_5</th>\n",
       "      <th>Interval_6</th>\n",
       "      <th>Interval_7</th>\n",
       "      <th>Interval_8</th>\n",
       "      <th>Interval_9</th>\n",
       "      <th>Interval_10</th>\n",
       "      <th>...</th>\n",
       "      <th>Interval_2871</th>\n",
       "      <th>Interval_2872</th>\n",
       "      <th>Interval_2873</th>\n",
       "      <th>Interval_2874</th>\n",
       "      <th>Interval_2875</th>\n",
       "      <th>Interval_2876</th>\n",
       "      <th>Interval_2877</th>\n",
       "      <th>Interval_2878</th>\n",
       "      <th>Interval_2879</th>\n",
       "      <th>Interval_2880</th>\n",
       "    </tr>\n",
       "    <tr>\n",
       "      <th>House ID</th>\n",
       "      <th></th>\n",
       "      <th></th>\n",
       "      <th></th>\n",
       "      <th></th>\n",
       "      <th></th>\n",
       "      <th></th>\n",
       "      <th></th>\n",
       "      <th></th>\n",
       "      <th></th>\n",
       "      <th></th>\n",
       "      <th></th>\n",
       "      <th></th>\n",
       "      <th></th>\n",
       "      <th></th>\n",
       "      <th></th>\n",
       "      <th></th>\n",
       "      <th></th>\n",
       "      <th></th>\n",
       "      <th></th>\n",
       "      <th></th>\n",
       "      <th></th>\n",
       "    </tr>\n",
       "  </thead>\n",
       "  <tbody>\n",
       "    <tr>\n",
       "      <th>11655099</th>\n",
       "      <td>0.950</td>\n",
       "      <td>0.826</td>\n",
       "      <td>0.361</td>\n",
       "      <td>0.238</td>\n",
       "      <td>0.342</td>\n",
       "      <td>0.233000</td>\n",
       "      <td>0.351000</td>\n",
       "      <td>0.194000</td>\n",
       "      <td>0.292000</td>\n",
       "      <td>0.234</td>\n",
       "      <td>...</td>\n",
       "      <td>0.664</td>\n",
       "      <td>0.783</td>\n",
       "      <td>0.601</td>\n",
       "      <td>0.639</td>\n",
       "      <td>0.417</td>\n",
       "      <td>0.439</td>\n",
       "      <td>0.226</td>\n",
       "      <td>0.190</td>\n",
       "      <td>0.710</td>\n",
       "      <td>0.728</td>\n",
       "    </tr>\n",
       "    <tr>\n",
       "      <th>11633257</th>\n",
       "      <td>0.353</td>\n",
       "      <td>0.327</td>\n",
       "      <td>0.358</td>\n",
       "      <td>0.292</td>\n",
       "      <td>0.285</td>\n",
       "      <td>0.304000</td>\n",
       "      <td>0.361000</td>\n",
       "      <td>0.342000</td>\n",
       "      <td>0.355000</td>\n",
       "      <td>0.348</td>\n",
       "      <td>...</td>\n",
       "      <td>0.536</td>\n",
       "      <td>0.558</td>\n",
       "      <td>0.622</td>\n",
       "      <td>0.634</td>\n",
       "      <td>0.513</td>\n",
       "      <td>0.421</td>\n",
       "      <td>0.273</td>\n",
       "      <td>0.296</td>\n",
       "      <td>0.291</td>\n",
       "      <td>0.289</td>\n",
       "    </tr>\n",
       "    <tr>\n",
       "      <th>11651552</th>\n",
       "      <td>0.150</td>\n",
       "      <td>0.181</td>\n",
       "      <td>0.150</td>\n",
       "      <td>0.150</td>\n",
       "      <td>0.131</td>\n",
       "      <td>0.125000</td>\n",
       "      <td>0.088000</td>\n",
       "      <td>0.106000</td>\n",
       "      <td>0.094000</td>\n",
       "      <td>1.019</td>\n",
       "      <td>...</td>\n",
       "      <td>2.125</td>\n",
       "      <td>0.881</td>\n",
       "      <td>0.481</td>\n",
       "      <td>1.194</td>\n",
       "      <td>0.138</td>\n",
       "      <td>0.119</td>\n",
       "      <td>0.038</td>\n",
       "      <td>0.088</td>\n",
       "      <td>0.056</td>\n",
       "      <td>0.113</td>\n",
       "    </tr>\n",
       "    <tr>\n",
       "      <th>11636092</th>\n",
       "      <td>2.088</td>\n",
       "      <td>2.075</td>\n",
       "      <td>2.121</td>\n",
       "      <td>2.098</td>\n",
       "      <td>2.046</td>\n",
       "      <td>2.081000</td>\n",
       "      <td>1.847000</td>\n",
       "      <td>0.420000</td>\n",
       "      <td>0.399000</td>\n",
       "      <td>0.364</td>\n",
       "      <td>...</td>\n",
       "      <td>0.620</td>\n",
       "      <td>0.487</td>\n",
       "      <td>0.563</td>\n",
       "      <td>0.419</td>\n",
       "      <td>0.379</td>\n",
       "      <td>0.359</td>\n",
       "      <td>0.347</td>\n",
       "      <td>0.325</td>\n",
       "      <td>0.330</td>\n",
       "      <td>0.340</td>\n",
       "    </tr>\n",
       "    <tr>\n",
       "      <th>11647239</th>\n",
       "      <td>1.416</td>\n",
       "      <td>1.250</td>\n",
       "      <td>1.270</td>\n",
       "      <td>1.258</td>\n",
       "      <td>1.239</td>\n",
       "      <td>1.753105</td>\n",
       "      <td>4.609256</td>\n",
       "      <td>4.619256</td>\n",
       "      <td>4.075151</td>\n",
       "      <td>1.230</td>\n",
       "      <td>...</td>\n",
       "      <td>1.596</td>\n",
       "      <td>1.667</td>\n",
       "      <td>1.569</td>\n",
       "      <td>1.664</td>\n",
       "      <td>1.580</td>\n",
       "      <td>1.635</td>\n",
       "      <td>1.568</td>\n",
       "      <td>1.565</td>\n",
       "      <td>1.575</td>\n",
       "      <td>1.571</td>\n",
       "    </tr>\n",
       "  </tbody>\n",
       "</table>\n",
       "<p>5 rows × 2880 columns</p>\n",
       "</div>"
      ],
      "text/plain": [
       "          Interval_1  Interval_2  Interval_3  Interval_4  Interval_5  \\\n",
       "House ID                                                               \n",
       "11655099       0.950       0.826       0.361       0.238       0.342   \n",
       "11633257       0.353       0.327       0.358       0.292       0.285   \n",
       "11651552       0.150       0.181       0.150       0.150       0.131   \n",
       "11636092       2.088       2.075       2.121       2.098       2.046   \n",
       "11647239       1.416       1.250       1.270       1.258       1.239   \n",
       "\n",
       "          Interval_6  Interval_7  Interval_8  Interval_9  Interval_10  \\\n",
       "House ID                                                                \n",
       "11655099    0.233000    0.351000    0.194000    0.292000        0.234   \n",
       "11633257    0.304000    0.361000    0.342000    0.355000        0.348   \n",
       "11651552    0.125000    0.088000    0.106000    0.094000        1.019   \n",
       "11636092    2.081000    1.847000    0.420000    0.399000        0.364   \n",
       "11647239    1.753105    4.609256    4.619256    4.075151        1.230   \n",
       "\n",
       "              ...        Interval_2871  Interval_2872  Interval_2873  \\\n",
       "House ID      ...                                                      \n",
       "11655099      ...                0.664          0.783          0.601   \n",
       "11633257      ...                0.536          0.558          0.622   \n",
       "11651552      ...                2.125          0.881          0.481   \n",
       "11636092      ...                0.620          0.487          0.563   \n",
       "11647239      ...                1.596          1.667          1.569   \n",
       "\n",
       "          Interval_2874  Interval_2875  Interval_2876  Interval_2877  \\\n",
       "House ID                                                               \n",
       "11655099          0.639          0.417          0.439          0.226   \n",
       "11633257          0.634          0.513          0.421          0.273   \n",
       "11651552          1.194          0.138          0.119          0.038   \n",
       "11636092          0.419          0.379          0.359          0.347   \n",
       "11647239          1.664          1.580          1.635          1.568   \n",
       "\n",
       "          Interval_2878  Interval_2879  Interval_2880  \n",
       "House ID                                               \n",
       "11655099          0.190          0.710          0.728  \n",
       "11633257          0.296          0.291          0.289  \n",
       "11651552          0.088          0.056          0.113  \n",
       "11636092          0.325          0.330          0.340  \n",
       "11647239          1.565          1.575          1.571  \n",
       "\n",
       "[5 rows x 2880 columns]"
      ]
     },
     "execution_count": 1,
     "metadata": {},
     "output_type": "execute_result"
    }
   ],
   "source": [
    "import pandas as pd\n",
    "import numpy as np\n",
    "import seaborn as sns\n",
    "import matplotlib.pyplot as plt\n",
    "%matplotlib inline\n",
    "\n",
    "def read_data():\n",
    "    EV = pd.read_csv('EV_train.csv', index_col='House ID')\n",
    "    EV_labels = pd.read_csv('EV_train_labels.csv', index_col='House ID')\n",
    "    return EV, EV_labels\n",
    "\n",
    "EV, EV_labels = read_data()\n",
    "EV.head()"
   ]
  },
  {
   "cell_type": "code",
   "execution_count": 11,
   "metadata": {
    "collapsed": false,
    "scrolled": true
   },
   "outputs": [
    {
     "name": "stdout",
     "output_type": "stream",
     "text": [
      "The draw time for this plot will be slow for all clients.\n"
     ]
    },
    {
     "name": "stderr",
     "output_type": "stream",
     "text": [
      "//anaconda/lib/python2.7/site-packages/plotly/plotly/plotly.py:1416: UserWarning:\n",
      "\n",
      "Estimated Draw Time Too Long\n",
      "\n"
     ]
    },
    {
     "data": {
      "text/html": [
       "<iframe id=\"igraph\" scrolling=\"no\" style=\"border:none;\"seamless=\"seamless\" src=\"https://plot.ly/~scsherm/164.embed\" height=\"1000px\" width=\"1000px\"></iframe>"
      ],
      "text/plain": [
       "<plotly.tools.PlotlyDisplay object>"
      ]
     },
     "execution_count": 11,
     "metadata": {},
     "output_type": "execute_result"
    }
   ],
   "source": [
    "import plotly.plotly as py\n",
    "import plotly.graph_objs as go\n",
    "import plotly.tools as tls\n",
    "py.sign_in('scsherm', 'ml0wer7f1s')\n",
    "\n",
    "data = [go.Heatmap(\n",
    "        x = range(1,len(EV.columns.values)+1),\n",
    "        y = EV.index.values,\n",
    "        z = EV.values,\n",
    "        zauto = False, \n",
    "        zmax = 20, \n",
    "        zmin = 0,\n",
    "        autocolorscale = False,\n",
    "        colorscale=[[0, 'rgb(220,220,220)'], [0.2, 'rgb(245,195,157)'], [0.4, 'rgb(245,160,105)'], \n",
    "                    [1, 'rgb(178,10,28)']])]\n",
    "\n",
    "layout = go.Layout(\n",
    "    title='Energy use per house per interval',\n",
    "    xaxis = dict(type = 'category'),\n",
    "    yaxis = dict(type = 'category'),\n",
    "    autosize=False,\n",
    "    barmode='overlay',\n",
    "    width = 1000,\n",
    "    height = 1000)\n",
    "\n",
    "EV_heatmap = go.Figure(data=data, layout=layout)\n",
    "py.iplot(EV_heatmap)"
   ]
  },
  {
   "cell_type": "code",
   "execution_count": 2,
   "metadata": {
    "collapsed": false
   },
   "outputs": [
    {
     "data": {
      "text/plain": [
       "60"
      ]
     },
     "execution_count": 2,
     "metadata": {},
     "output_type": "execute_result"
    }
   ],
   "source": [
    "len(EV.columns.values)/48 #number of days"
   ]
  },
  {
   "cell_type": "markdown",
   "metadata": {},
   "source": [
    "Considering the span of intervals takes place over 60 days, there are patterns emerging that represent energy use for different households. Although, I do not know what time of day the first interval takes place, I can hypothesize that people charge their vehicles in a manner that would be consistent with their schedule. For the average person, this might be charging their vehicle at night, while they are sleeping."
   ]
  },
  {
   "cell_type": "code",
   "execution_count": 2,
   "metadata": {
    "collapsed": false
   },
   "outputs": [
    {
     "data": {
      "text/plain": [
       "array([ 1.75310503,  4.609256  ,  4.619256  ,  4.07515097,  1.92749409,\n",
       "        1.94449409,  1.35296277,  4.42029323,  2.28549409,  2.04349409,\n",
       "        1.60343426,  4.27282174,  1.84029013,  4.585256  ,  4.564256  ,\n",
       "        4.559256  ,  3.91996587,  1.93349409,  2.40149409,  2.13744758])"
      ]
     },
     "execution_count": 2,
     "metadata": {},
     "output_type": "execute_result"
    }
   ],
   "source": [
    "#Energy use for EV charging\n",
    "mask = zip(*np.where(EV_labels == 1))\n",
    "EV_1_values = np.array([EV.iloc[i[0],i[1]] for i in mask])\n",
    "EV_1_values[:20]"
   ]
  },
  {
   "cell_type": "code",
   "execution_count": 3,
   "metadata": {
    "collapsed": false
   },
   "outputs": [
    {
     "data": {
      "text/plain": [
       "array([ 0.95 ,  0.826,  0.361,  0.238,  0.342,  0.233,  0.351,  0.194,\n",
       "        0.292,  0.234,  0.26 ,  0.274,  0.192,  0.329,  0.192,  0.443,\n",
       "        0.26 ,  0.222,  0.419,  0.249])"
      ]
     },
     "execution_count": 3,
     "metadata": {},
     "output_type": "execute_result"
    }
   ],
   "source": [
    "#Energy use for no EV charging\n",
    "mask2 = zip(*np.where(EV_labels == 0))\n",
    "EV_0_values = np.array([EV.iloc[i[0],i[1]] for i in mask2])\n",
    "EV_0_values[:20]"
   ]
  },
  {
   "cell_type": "code",
   "execution_count": 52,
   "metadata": {
    "collapsed": false
   },
   "outputs": [
    {
     "data": {
      "text/plain": [
       "1.3494471794259362"
      ]
     },
     "execution_count": 52,
     "metadata": {},
     "output_type": "execute_result"
    }
   ],
   "source": [
    "#mean energy use with no EV charge\n",
    "EV_0_values = EV_0_values[~np.isnan(EV_0_values)]\n",
    "EV_0_values.mean()"
   ]
  },
  {
   "cell_type": "code",
   "execution_count": 53,
   "metadata": {
    "collapsed": false
   },
   "outputs": [
    {
     "data": {
      "text/plain": [
       "3.5141408897533064"
      ]
     },
     "execution_count": 53,
     "metadata": {},
     "output_type": "execute_result"
    }
   ],
   "source": [
    "#mean energy use with EV charge\n",
    "EV_1_values = EV_1_values[~np.isnan(EV_1_values)]\n",
    "EV_1_values.mean()"
   ]
  },
  {
   "cell_type": "markdown",
   "metadata": {},
   "source": [
    "Energy use for households with electric vehicles is, on average, higher than for households without electric vehicles."
   ]
  },
  {
   "cell_type": "code",
   "execution_count": 6,
   "metadata": {
    "collapsed": false
   },
   "outputs": [],
   "source": [
    "from sklearn.linear_model import LogisticRegression\n",
    "from sklearn.cross_validation import cross_val_score, train_test_split\n",
    "from sklearn.metrics import recall_score, precision_score, average_precision_score, roc_curve, roc_auc_score\n",
    "\n",
    "\n",
    "EV.fillna(-1, inplace = True)\n",
    "X = EV.values\n",
    "\n",
    "#create y labels for when a house has an electric vehicle\n",
    "y = EV_labels.sum(axis=1) > 0\n",
    "y = y.astype(int).values\n",
    "\n",
    "# stratify train,test split\n",
    "X_train, X_test, y_train, y_test = train_test_split(X, y, test_size = 0.2, random_state = 42, stratify = y)\n",
    "clf_init = LogisticRegression(fit_intercept=True, penalty = 'l2', n_jobs=-1)\n",
    "clf_init.fit(X_train,y_train)\n",
    "coefficients = clf_init.coef_\n",
    "coefficients = np.exp(coefficients) #take exponential for interoperability "
   ]
  },
  {
   "cell_type": "code",
   "execution_count": 5,
   "metadata": {
    "collapsed": false
   },
   "outputs": [
    {
     "data": {
      "text/plain": [
       "array([2820])"
      ]
     },
     "execution_count": 5,
     "metadata": {},
     "output_type": "execute_result"
    }
   ],
   "source": [
    "np.where(coefficients == coefficients.max())[1]"
   ]
  },
  {
   "cell_type": "code",
   "execution_count": 6,
   "metadata": {
    "collapsed": false
   },
   "outputs": [
    {
     "data": {
      "text/plain": [
       "1.4860950498090095"
      ]
     },
     "execution_count": 6,
     "metadata": {},
     "output_type": "execute_result"
    }
   ],
   "source": [
    "coefficients[0][2820]"
   ]
  },
  {
   "cell_type": "code",
   "execution_count": 7,
   "metadata": {
    "collapsed": false
   },
   "outputs": [],
   "source": [
    "one_rows = np.where(EV_labels.iloc[:,2820] == 1)[0]\n",
    "zero_rows = np.where(EV_labels.iloc[:,2820] == 0)[0]"
   ]
  },
  {
   "cell_type": "code",
   "execution_count": 8,
   "metadata": {
    "collapsed": false
   },
   "outputs": [
    {
     "data": {
      "text/plain": [
       "3.5342846043974689"
      ]
     },
     "execution_count": 8,
     "metadata": {},
     "output_type": "execute_result"
    }
   ],
   "source": [
    "EV[EV.columns.values[2820]].values[one_rows].mean()"
   ]
  },
  {
   "cell_type": "code",
   "execution_count": 9,
   "metadata": {
    "collapsed": false
   },
   "outputs": [
    {
     "data": {
      "text/plain": [
       "1.5066442307692307"
      ]
     },
     "execution_count": 9,
     "metadata": {},
     "output_type": "execute_result"
    }
   ],
   "source": [
    "EV[EV.columns.values[2820]].values[zero_rows].mean()"
   ]
  },
  {
   "cell_type": "code",
   "execution_count": 12,
   "metadata": {
    "collapsed": false
   },
   "outputs": [
    {
     "data": {
      "text/html": [
       "<iframe id=\"igraph\" scrolling=\"no\" style=\"border:none;\"seamless=\"seamless\" src=\"https://plot.ly/~scsherm/166.embed\" height=\"525px\" width=\"100%\"></iframe>"
      ],
      "text/plain": [
       "<plotly.tools.PlotlyDisplay object>"
      ]
     },
     "execution_count": 12,
     "metadata": {},
     "output_type": "execute_result"
    }
   ],
   "source": [
    "EV_ones = EV.iloc[np.where(y==1)[0]]\n",
    "\n",
    "data = [go.Scatter(\n",
    "        x = range(1,len(EV_ones)), \n",
    "        y = EV_ones.mean(axis=0), \n",
    "        mode = 'lines')]\n",
    "    \n",
    "layout2 = go.Layout(\n",
    "    title='Mean Energy Use of EV Households Over Time',\n",
    "    xaxis=dict(\n",
    "        title='Interval',\n",
    "        titlefont=dict(\n",
    "            family='Courier New, monospace',\n",
    "            size=18,\n",
    "            color='#7f7f7f'\n",
    "        )\n",
    "    ),\n",
    "    yaxis=dict(\n",
    "        title='Mean Energy Use',\n",
    "        titlefont=dict(\n",
    "            family='Courier New, monospace',\n",
    "            size=18,\n",
    "            color='#7f7f7f'\n",
    "        )\n",
    "    )\n",
    ")\n",
    "EV_Over_Time = go.Figure(data=data, layout=layout2)    \n",
    "py.iplot(EV_Over_Time)"
   ]
  },
  {
   "cell_type": "code",
   "execution_count": 128,
   "metadata": {
    "collapsed": false
   },
   "outputs": [
    {
     "data": {
      "text/html": [
       "<iframe id=\"igraph\" scrolling=\"no\" style=\"border:none;\"seamless=\"seamless\" src=\"https://plot.ly/~scsherm/156.embed\" height=\"525px\" width=\"100%\"></iframe>"
      ],
      "text/plain": [
       "<plotly.tools.PlotlyDisplay object>"
      ]
     },
     "execution_count": 128,
     "metadata": {},
     "output_type": "execute_result"
    }
   ],
   "source": [
    "EV_zeros = EV.iloc[np.where(y==0)[0]]\n",
    "\n",
    "data = [go.Scatter(\n",
    "        x = range(1,len(EV_zeros)), \n",
    "        y = EV_zeros.mean(axis=0), \n",
    "        mode = 'lines')]\n",
    "    \n",
    "layout2 = go.Layout(\n",
    "    title='Mean Energy Use of Non-EV Households Over Time',\n",
    "    xaxis=dict(\n",
    "        title='Interval',\n",
    "        titlefont=dict(\n",
    "            family='Courier New, monospace',\n",
    "            size=18,\n",
    "            color='#7f7f7f'\n",
    "        )\n",
    "    ),\n",
    "    yaxis=dict(\n",
    "        title='Mean Energy Use',\n",
    "        titlefont=dict(\n",
    "            family='Courier New, monospace',\n",
    "            size=18,\n",
    "            color='#7f7f7f'\n",
    "        )\n",
    "    )\n",
    ")\n",
    "Non_EV_Over_Time = go.Figure(data=data, layout=layout2)    \n",
    "py.iplot(Non_EV_Over_Time)"
   ]
  },
  {
   "cell_type": "markdown",
   "metadata": {},
   "source": [
    "The patterns of mean energy use are clearly distinguishable from the households with electric vehicles and those without electric vehicles. There is a cyclical pattern for the energy use for most households. This would make sense as most people have habitual schedules and probably use less energy while not at home. However, the households with electric vehicles have sections which reach much higher levels of energy use during their peak hours. Additionally, the total amount of peak times, over a 60 day period, are less."
   ]
  },
  {
   "cell_type": "markdown",
   "metadata": {},
   "source": [
    "## Determining if a household has an electric vehicle"
   ]
  },
  {
   "cell_type": "code",
   "execution_count": 2,
   "metadata": {
    "collapsed": true
   },
   "outputs": [],
   "source": [
    "from sklearn.ensemble import ExtraTreesClassifier as ETF\n",
    "from sklearn.ensemble import RandomForestClassifier as RF\n",
    "from sklearn.linear_model import LogisticRegression as LR\n",
    "from sklearn.grid_search import GridSearchCV\n",
    "import xgboost as xgb\n",
    "from sklearn.cross_validation import StratifiedKFold\n",
    "from scipy import interp\n",
    "\n",
    "def run_model(X, y, model):\n",
    "    AUC, AUC2, thresholds, recall, precision = [], [], [], [], []\n",
    "    mean_tpr = 0.0\n",
    "    mean_fpr = np.linspace(0, 1, 100)\n",
    "    \n",
    "    #Statified K fold\n",
    "    skf = StratifiedKFold(y, n_folds=5, shuffle=True)\n",
    "    for train_index, test_index in skf:\n",
    "        X_train, X_test = X[train_index], X[test_index]\n",
    "        y_train, y_test= y[train_index], y[test_index]\n",
    "        \n",
    "        # Initialize a classifier \n",
    "        if model == LR:\n",
    "            clf = model(random_state = 2, n_jobs = -1)\n",
    "        elif model == ETF or model == RF:\n",
    "            clf = model(random_state = 2, n_estimators = 1000, n_jobs = -1)\n",
    "        else:\n",
    "            clf = model\n",
    "        clf.fit(X_train, y_train)\n",
    "        pred = clf.predict_proba(X_test)\n",
    "        pred2 = clf.predict(X_test)\n",
    "        \n",
    "        #Evaluate\n",
    "        fpr, tpr, thresholds = roc_curve(y_test, pred[:,1])\n",
    "        mean_tpr += interp(mean_fpr, fpr, tpr)\n",
    "        mean_tpr[0] = 0.0\n",
    "        AUC.append(roc_auc_score(y_test, pred[:,1]))\n",
    "        AUC2.append(average_precision_score(y_test, pred[:,1]))\n",
    "        recall.append(recall_score(y_test, pred2))\n",
    "        precision.append(precision_score(y_test, pred2))\n",
    "        if model == XGB:\n",
    "            skf = [1]\n",
    "            break\n",
    "\n",
    "    mean_tpr /= len(skf)\n",
    "    mean_tpr[-1] = 1.0\n",
    "    return recall, AUC, precision, AUC2, mean_fpr, mean_tpr, thresholds, pred2, y_test, clf"
   ]
  },
  {
   "cell_type": "code",
   "execution_count": 182,
   "metadata": {
    "collapsed": false
   },
   "outputs": [
    {
     "name": "stdout",
     "output_type": "stream",
     "text": [
      "Fitting 2 folds for each of 27 candidates, totalling 54 fits\n"
     ]
    },
    {
     "name": "stderr",
     "output_type": "stream",
     "text": [
      "[Parallel(n_jobs=-1)]: Done  25 tasks      | elapsed:  7.7min\n",
      "[Parallel(n_jobs=-1)]: Done  54 out of  54 | elapsed: 14.1min finished\n"
     ]
    },
    {
     "name": "stdout",
     "output_type": "stream",
     "text": [
      "[CV] n_estimators=50, learning_rate=0.01, max_depth=3 ................\n",
      "[CV] n_estimators=50, learning_rate=0.01, max_depth=3 ................\n",
      "[CV] n_estimators=500, learning_rate=0.01, max_depth=3 ...............\n",
      "[CV] n_estimators=500, learning_rate=0.01, max_depth=3 ...............\n",
      "[CV] n_estimators=1000, learning_rate=0.01, max_depth=3 ..............\n",
      "[CV] n_estimators=1000, learning_rate=0.01, max_depth=3 ..............\n",
      "[CV] n_estimators=50, learning_rate=0.01, max_depth=5 ................\n",
      "[CV] n_estimators=50, learning_rate=0.01, max_depth=5 ................\n",
      "[CV] ....... n_estimators=50, learning_rate=0.01, max_depth=3 -   8.5s[CV] ....... n_estimators=50, learning_rate=0.01, max_depth=3 -   8.6s[CV] ...... n_estimators=500, learning_rate=0.01, max_depth=3 - 1.5min[CV] ...... n_estimators=500, learning_rate=0.01, max_depth=3 - 1.5min[CV] ..... n_estimators=1000, learning_rate=0.01, max_depth=3 - 2.9min[CV] ..... n_estimators=1000, learning_rate=0.01, max_depth=3 - 2.9min[CV] ....... n_estimators=50, learning_rate=0.01, max_depth=5 -  13.9s[CV] ....... n_estimators=50, learning_rate=0.01, max_depth=5 -  14.0s\n",
      "\n",
      "\n",
      "\n",
      "\n",
      "\n",
      "\n",
      "\n",
      "[CV] n_estimators=500, learning_rate=0.01, max_depth=5 ...............\n",
      "[CV] n_estimators=500, learning_rate=0.01, max_depth=5 ...............\n",
      "[CV] n_estimators=50, learning_rate=0.01, max_depth=7 ................\n",
      "[CV] n_estimators=50, learning_rate=0.01, max_depth=7 ................\n",
      "[CV] n_estimators=50, learning_rate=0.001, max_depth=3 ...............\n",
      "[CV] n_estimators=50, learning_rate=0.001, max_depth=3 ...............\n",
      "[CV] n_estimators=1000, learning_rate=0.01, max_depth=5 ..............\n",
      "[CV] n_estimators=1000, learning_rate=0.01, max_depth=5 ..............\n",
      "[CV] ...... n_estimators=500, learning_rate=0.01, max_depth=5 - 2.4min[CV] ...... n_estimators=500, learning_rate=0.01, max_depth=5 - 2.4min[CV] ....... n_estimators=50, learning_rate=0.01, max_depth=7 -  19.9s[CV] ....... n_estimators=50, learning_rate=0.01, max_depth=7 -  19.6s[CV] ...... n_estimators=50, learning_rate=0.001, max_depth=3 -   9.5s[CV] ...... n_estimators=50, learning_rate=0.001, max_depth=3 -   9.5s[CV] ..... n_estimators=1000, learning_rate=0.01, max_depth=5 - 4.7min[CV] ..... n_estimators=1000, learning_rate=0.01, max_depth=5 - 4.6min\n",
      "\n",
      "\n",
      "\n",
      "\n",
      "\n",
      "\n",
      "\n",
      "[CV] n_estimators=1000, learning_rate=0.01, max_depth=7 ..............\n",
      "[CV] n_estimators=1000, learning_rate=0.01, max_depth=7 ..............\n",
      "[CV] n_estimators=500, learning_rate=0.01, max_depth=7 ...............\n",
      "[CV] n_estimators=500, learning_rate=0.01, max_depth=7 ...............\n",
      "[CV] n_estimators=500, learning_rate=0.001, max_depth=3 ..............\n",
      "[CV] n_estimators=500, learning_rate=0.001, max_depth=3 ..............\n",
      "[CV] n_estimators=50, learning_rate=0.001, max_depth=5 ...............\n",
      "[CV] n_estimators=50, learning_rate=0.001, max_depth=5 ...............\n",
      "[CV] ..... n_estimators=1000, learning_rate=0.01, max_depth=7 - 5.7min[CV] ..... n_estimators=1000, learning_rate=0.01, max_depth=7 - 5.5min[CV] ...... n_estimators=500, learning_rate=0.01, max_depth=7 - 3.2min[CV] ...... n_estimators=500, learning_rate=0.01, max_depth=7 - 3.2min[CV] ..... n_estimators=500, learning_rate=0.001, max_depth=3 - 1.6min[CV] ..... n_estimators=500, learning_rate=0.001, max_depth=3 - 1.6min[CV] ...... n_estimators=50, learning_rate=0.001, max_depth=5 -  15.5s[CV] ...... n_estimators=50, learning_rate=0.001, max_depth=5 -  15.3s\n",
      "\n",
      "\n",
      "\n",
      "\n",
      "\n",
      "\n",
      "\n",
      "[CV] n_estimators=500, learning_rate=0.1, max_depth=3 ................\n",
      "[CV] n_estimators=50, learning_rate=0.1, max_depth=3 .................\n",
      "[CV] n_estimators=500, learning_rate=0.001, max_depth=5 ..............\n",
      "[CV] n_estimators=500, learning_rate=0.001, max_depth=5 ..............\n",
      "[CV] n_estimators=1000, learning_rate=0.001, max_depth=3 .............\n",
      "[CV] n_estimators=1000, learning_rate=0.001, max_depth=3 .............\n",
      "[CV] n_estimators=1000, learning_rate=0.001, max_depth=5 .............\n",
      "[CV] n_estimators=1000, learning_rate=0.001, max_depth=5 .............\n",
      "[CV] ....... n_estimators=500, learning_rate=0.1, max_depth=3 - 1.3min[CV] ........ n_estimators=50, learning_rate=0.1, max_depth=3 -   9.7s[CV] ..... n_estimators=500, learning_rate=0.001, max_depth=5 - 2.5min[CV] ..... n_estimators=500, learning_rate=0.001, max_depth=5 - 2.5min[CV] .... n_estimators=1000, learning_rate=0.001, max_depth=3 - 3.1min[CV] .... n_estimators=1000, learning_rate=0.001, max_depth=3 - 3.1min[CV] .... n_estimators=1000, learning_rate=0.001, max_depth=5 - 4.9min[CV] .... n_estimators=1000, learning_rate=0.001, max_depth=5 - 4.9min\n",
      "\n",
      "\n",
      "\n",
      "\n",
      "\n",
      "\n",
      "\n",
      "[CV] n_estimators=1000, learning_rate=0.1, max_depth=3 ...............\n",
      "[CV] n_estimators=50, learning_rate=0.1, max_depth=3 .................\n",
      "[CV] n_estimators=50, learning_rate=0.001, max_depth=7 ...............\n",
      "[CV] n_estimators=50, learning_rate=0.001, max_depth=7 ...............\n",
      "[CV] n_estimators=500, learning_rate=0.001, max_depth=7 ..............\n",
      "[CV] n_estimators=500, learning_rate=0.001, max_depth=7 ..............\n",
      "[CV] n_estimators=50, learning_rate=0.1, max_depth=5 .................\n",
      "[CV] n_estimators=50, learning_rate=0.1, max_depth=5 .................\n",
      "[CV] ...... n_estimators=1000, learning_rate=0.1, max_depth=3 - 2.1min[CV] ........ n_estimators=50, learning_rate=0.1, max_depth=3 -   8.9s[CV] ...... n_estimators=50, learning_rate=0.001, max_depth=7 -  20.2s[CV] ...... n_estimators=50, learning_rate=0.001, max_depth=7 -  20.4s[CV] ..... n_estimators=500, learning_rate=0.001, max_depth=7 - 3.2min[CV] ..... n_estimators=500, learning_rate=0.001, max_depth=7 - 3.2min[CV] ........ n_estimators=50, learning_rate=0.1, max_depth=5 -  14.3s[CV] ........ n_estimators=50, learning_rate=0.1, max_depth=5 -  14.6s\n",
      "\n",
      "\n",
      "\n",
      "\n",
      "\n",
      "\n",
      "\n",
      "[CV] n_estimators=50, learning_rate=0.1, max_depth=7 .................\n",
      "[CV] n_estimators=500, learning_rate=0.1, max_depth=3 ................\n",
      "[CV] n_estimators=1000, learning_rate=0.001, max_depth=7 .............\n",
      "[CV] n_estimators=1000, learning_rate=0.001, max_depth=7 .............\n",
      "[CV] n_estimators=1000, learning_rate=0.1, max_depth=5 ...............\n",
      "[CV] n_estimators=1000, learning_rate=0.1, max_depth=5 ...............\n",
      "[CV] n_estimators=500, learning_rate=0.1, max_depth=5 ................\n",
      "[CV] n_estimators=500, learning_rate=0.1, max_depth=5 ................\n",
      "[CV] ........ n_estimators=50, learning_rate=0.1, max_depth=7 -  23.3s[CV] ....... n_estimators=500, learning_rate=0.1, max_depth=3 - 1.3min[CV] .... n_estimators=1000, learning_rate=0.001, max_depth=7 - 6.3min[CV] .... n_estimators=1000, learning_rate=0.001, max_depth=7 - 6.3min[CV] ...... n_estimators=1000, learning_rate=0.1, max_depth=5 - 2.4min[CV] ...... n_estimators=1000, learning_rate=0.1, max_depth=5 - 2.5min[CV] ....... n_estimators=500, learning_rate=0.1, max_depth=5 - 1.6min[CV] ....... n_estimators=500, learning_rate=0.1, max_depth=5 - 1.6min\n",
      "\n",
      "\n",
      "\n",
      "\n",
      "\n",
      "\n",
      "\n",
      "[CV] n_estimators=1000, learning_rate=0.1, max_depth=7 ...............\n",
      "[CV] n_estimators=1000, learning_rate=0.1, max_depth=3 ...............\n",
      "[CV] n_estimators=50, learning_rate=0.1, max_depth=7 .................\n",
      "[CV] n_estimators=500, learning_rate=0.1, max_depth=7 ................\n",
      "[CV] ...... n_estimators=1000, learning_rate=0.1, max_depth=7 - 2.0min[CV] ...... n_estimators=1000, learning_rate=0.1, max_depth=3 - 2.2min[CV] ........ n_estimators=50, learning_rate=0.1, max_depth=7 -  19.8s[CV] ....... n_estimators=500, learning_rate=0.1, max_depth=7 - 1.6min\n",
      "\n",
      "\n",
      "\n",
      "[CV] n_estimators=1000, learning_rate=0.1, max_depth=7 ...............\n",
      "[CV] n_estimators=500, learning_rate=0.1, max_depth=7 ................\n",
      "[CV] ...... n_estimators=1000, learning_rate=0.1, max_depth=7 - 2.0min[CV] ....... n_estimators=500, learning_rate=0.1, max_depth=7 - 1.6min\n",
      "\n"
     ]
    },
    {
     "data": {
      "text/html": [
       "<iframe id=\"igraph\" scrolling=\"no\" style=\"border:none;\"seamless=\"seamless\" src=\"https://plot.ly/~scsherm/162.embed\" height=\"525px\" width=\"100%\"></iframe>"
      ],
      "text/plain": [
       "<plotly.tools.PlotlyDisplay object>"
      ]
     },
     "execution_count": 182,
     "metadata": {},
     "output_type": "execute_result"
    }
   ],
   "source": [
    "(rf_recall, rf_AUC, rf_precision, rf_AUC2, rf_mean_fpr, \n",
    " rf_mean_tpr, rf_thresholds, rf_pred2, rf_y_test, rf_clf) = run_model(X, y, RF)\n",
    "\n",
    "(etf_recall, etf_AUC, etf_precision, etf_AUC2, etf_mean_fpr, \n",
    " etf_mean_tpr, etf_thresholds, etf_pred2, etf_y_test, etf_clf) = run_model(X, y, ETF)\n",
    "\n",
    "(log_recall, log_AUC, log_precision, log_AUC2, log_mean_fpr, log_mean_tpr, \n",
    " log_thresholds, log_pred2, log_y_test, log_clf) = run_model(X, y, LR)\n",
    "\n",
    "param_grid = [{'learning_rate': [.01, .001, .1], 'n_estimators': [50, 500, 1000], 'max_depth': [3, 5, 7]}]\n",
    "xgb_model = xgb.XGBClassifier()\n",
    "XGB = GridSearchCV(xgb_model, param_grid, verbose = 2, cv = 2, n_jobs = -1, scoring = 'roc_auc')\n",
    "\n",
    "(gb_recall, gb_AUC, gb_precision, gb_AUC2, gb_mean_fpr, \n",
    " gb_mean_tpr, gb_thresholds, gb_pred2, gb_y_test, gb_clf) = run_model(X, y, XGB)\n",
    "\n",
    "v = np.linspace(0,1)\n",
    "\n",
    "data = [go.Scatter(x = rf_mean_fpr, y = rf_mean_tpr, \n",
    "                   mode = 'lines', \n",
    "                   name = 'RF_AUC:{}'.format(np.mean(rf_AUC))),\n",
    "        go.Scatter(x = etf_mean_fpr, y = etf_mean_tpr, \n",
    "                   mode = 'lines', \n",
    "                   name = 'ETF_AUC:{}'.format(np.mean(etf_AUC))),\n",
    "        go.Scatter(x = log_mean_fpr, y = log_mean_tpr, \n",
    "                   mode = 'lines', \n",
    "                   name = 'LOG_AUC:{}'.format(np.mean(log_AUC))),\n",
    "        go.Scatter(x = gb_mean_fpr, y = gb_mean_tpr, \n",
    "                   mode = 'lines', \n",
    "                   name = 'XBG_AUC:{}'.format(np.mean(gb_AUC))),\n",
    "        go.Scatter(x = v, y = v, \n",
    "                   mode = 'lines', \n",
    "                   name = '50/50 mark')]\n",
    "\n",
    "layout = go.Layout(title='ROC Curves',\n",
    "    xaxis=dict(title='False Postive Rate',\n",
    "            titlefont=dict(family='Courier New, monospace',size=18,color='#7f7f7f')),\n",
    "    yaxis=dict(title='True Postive Rate',\n",
    "            titlefont=dict(family='Courier New, monospace',size=18,color='#7f7f7f')))\n",
    "ROC = go.Figure(data=data, layout=layout)    \n",
    "py.iplot(ROC)"
   ]
  },
  {
   "cell_type": "code",
   "execution_count": 183,
   "metadata": {
    "collapsed": false
   },
   "outputs": [
    {
     "name": "stdout",
     "output_type": "stream",
     "text": [
      "Extra Trees Classifier\n",
      "Recall:0.651546391753, AUC:0.934445118253, Precision:0.888723257419, PR_Curve:0.885718136082\n",
      "Accuracy:0.852201257862\n"
     ]
    }
   ],
   "source": [
    "print \"Extra Trees Classifier\"\n",
    "print \"Recall:{}, AUC:{}, Precision:{}, PR_Curve:{}\".format(np.mean(etf_recall), \n",
    "    np.mean(etf_AUC), np.mean(etf_precision), np.mean(etf_AUC2))\n",
    "print \"Accuracy:{}\".format(np.mean(etf_pred2 == etf_y_test))"
   ]
  },
  {
   "cell_type": "code",
   "execution_count": 184,
   "metadata": {
    "collapsed": false
   },
   "outputs": [
    {
     "name": "stdout",
     "output_type": "stream",
     "text": [
      "Random Forest Classifier\n",
      "Recall:0.672164948454, AUC:0.930526659514, Precision:0.853739449791, PR_Curve:0.877922321428\n",
      "Accuracy:0.87106918239\n"
     ]
    }
   ],
   "source": [
    "print \"Random Forest Classifier\"\n",
    "print \"Recall:{}, AUC:{}, Precision:{}, PR_Curve:{}\".format(np.mean(rf_recall), \n",
    "    np.mean(rf_AUC), np.mean(rf_precision), np.mean(rf_AUC2))\n",
    "print \"Accuracy:{}\".format(np.mean(rf_pred2 == rf_y_test))"
   ]
  },
  {
   "cell_type": "code",
   "execution_count": 185,
   "metadata": {
    "collapsed": false
   },
   "outputs": [
    {
     "name": "stdout",
     "output_type": "stream",
     "text": [
      "Logistic Regression\n",
      "Recall:0.540206185567, AUC:0.757218827261, Precision:0.801826504119, PR_Curve:0.709154272771\n",
      "Accuracy:0.823899371069\n"
     ]
    }
   ],
   "source": [
    "print \"Logistic Regression\"\n",
    "print \"Recall:{}, AUC:{}, Precision:{}, PR_Curve:{}\".format(np.mean(log_recall), \n",
    "    np.mean(log_AUC), np.mean(log_precision), np.mean(log_AUC2))\n",
    "print \"Accuracy:{}\".format(np.mean(log_pred2 == log_y_test))"
   ]
  },
  {
   "cell_type": "code",
   "execution_count": 186,
   "metadata": {
    "collapsed": false
   },
   "outputs": [
    {
     "name": "stdout",
     "output_type": "stream",
     "text": [
      "Xgboost Classifier\n",
      "Recall:0.463917525773, AUC:0.843821430237, Precision:0.9, PR_Curve:0.776334881543\n",
      "Accuracy:0.820754716981\n"
     ]
    }
   ],
   "source": [
    "print \"Xgboost Classifier\"\n",
    "print \"Recall:{}, AUC:{}, Precision:{}, PR_Curve:{}\".format(np.mean(gb_recall), \n",
    "    np.mean(gb_AUC), np.mean(gb_precision), np.mean(gb_AUC2))\n",
    "print \"Accuracy:{}\".format(np.mean(gb_pred2 == gb_y_test))"
   ]
  },
  {
   "cell_type": "markdown",
   "metadata": {},
   "source": [
    "It appears the models are doing well in predicting which households contain an electric vehicle. However, in choosing a model it would be best to determine the ultimate goals or how the model will be used by a potential client. If it is desired to alter the threshold for classification, then the Extra Trees classifier seems most promising. Observing the ROC curve, the Extra Trees Classifer has the largest AUC and remains fairly smooth through the range of different thresholds. However, if it is desired to use the model \"as is\", then I would recommend the Random Forest Classifier. The recall or classification of \"1\" is higher. Although, the two models are very close in all metrics and both will ultimately perform well."
   ]
  },
  {
   "cell_type": "markdown",
   "metadata": {},
   "source": [
    "## Determining the interval an electric vehicle is charging"
   ]
  },
  {
   "cell_type": "code",
   "execution_count": 3,
   "metadata": {
    "collapsed": false
   },
   "outputs": [
    {
     "data": {
      "text/html": [
       "<div>\n",
       "<table border=\"1\" class=\"dataframe\">\n",
       "  <thead>\n",
       "    <tr style=\"text-align: right;\">\n",
       "      <th></th>\n",
       "      <th>Interval_1</th>\n",
       "      <th>Interval_2</th>\n",
       "      <th>Interval_3</th>\n",
       "      <th>Interval_4</th>\n",
       "      <th>Interval_5</th>\n",
       "      <th>Interval_6</th>\n",
       "      <th>Interval_7</th>\n",
       "      <th>Interval_8</th>\n",
       "      <th>Interval_9</th>\n",
       "      <th>Interval_10</th>\n",
       "      <th>...</th>\n",
       "      <th>Interval_2871</th>\n",
       "      <th>Interval_2872</th>\n",
       "      <th>Interval_2873</th>\n",
       "      <th>Interval_2874</th>\n",
       "      <th>Interval_2875</th>\n",
       "      <th>Interval_2876</th>\n",
       "      <th>Interval_2877</th>\n",
       "      <th>Interval_2878</th>\n",
       "      <th>Interval_2879</th>\n",
       "      <th>Interval_2880</th>\n",
       "    </tr>\n",
       "    <tr>\n",
       "      <th>House ID</th>\n",
       "      <th></th>\n",
       "      <th></th>\n",
       "      <th></th>\n",
       "      <th></th>\n",
       "      <th></th>\n",
       "      <th></th>\n",
       "      <th></th>\n",
       "      <th></th>\n",
       "      <th></th>\n",
       "      <th></th>\n",
       "      <th></th>\n",
       "      <th></th>\n",
       "      <th></th>\n",
       "      <th></th>\n",
       "      <th></th>\n",
       "      <th></th>\n",
       "      <th></th>\n",
       "      <th></th>\n",
       "      <th></th>\n",
       "      <th></th>\n",
       "      <th></th>\n",
       "    </tr>\n",
       "  </thead>\n",
       "  <tbody>\n",
       "    <tr>\n",
       "      <th>11643173</th>\n",
       "      <td>1.013</td>\n",
       "      <td>0.215</td>\n",
       "      <td>0.217</td>\n",
       "      <td>0.217</td>\n",
       "      <td>0.217</td>\n",
       "      <td>0.220</td>\n",
       "      <td>0.220</td>\n",
       "      <td>0.215</td>\n",
       "      <td>0.215</td>\n",
       "      <td>0.213</td>\n",
       "      <td>...</td>\n",
       "      <td>1.059</td>\n",
       "      <td>0.308</td>\n",
       "      <td>1.248</td>\n",
       "      <td>0.236</td>\n",
       "      <td>0.206</td>\n",
       "      <td>0.210</td>\n",
       "      <td>0.218</td>\n",
       "      <td>0.219</td>\n",
       "      <td>0.909</td>\n",
       "      <td>0.202</td>\n",
       "    </tr>\n",
       "    <tr>\n",
       "      <th>11655020</th>\n",
       "      <td>1.325</td>\n",
       "      <td>1.413</td>\n",
       "      <td>0.813</td>\n",
       "      <td>0.588</td>\n",
       "      <td>0.213</td>\n",
       "      <td>0.175</td>\n",
       "      <td>0.163</td>\n",
       "      <td>0.200</td>\n",
       "      <td>0.175</td>\n",
       "      <td>0.200</td>\n",
       "      <td>...</td>\n",
       "      <td>0.750</td>\n",
       "      <td>0.625</td>\n",
       "      <td>0.450</td>\n",
       "      <td>1.325</td>\n",
       "      <td>0.350</td>\n",
       "      <td>0.313</td>\n",
       "      <td>0.188</td>\n",
       "      <td>0.200</td>\n",
       "      <td>0.188</td>\n",
       "      <td>0.175</td>\n",
       "    </tr>\n",
       "    <tr>\n",
       "      <th>11644367</th>\n",
       "      <td>1.543</td>\n",
       "      <td>1.636</td>\n",
       "      <td>1.683</td>\n",
       "      <td>1.556</td>\n",
       "      <td>1.935</td>\n",
       "      <td>2.393</td>\n",
       "      <td>2.601</td>\n",
       "      <td>2.709</td>\n",
       "      <td>2.590</td>\n",
       "      <td>2.673</td>\n",
       "      <td>...</td>\n",
       "      <td>2.208</td>\n",
       "      <td>2.423</td>\n",
       "      <td>2.458</td>\n",
       "      <td>2.487</td>\n",
       "      <td>2.354</td>\n",
       "      <td>2.444</td>\n",
       "      <td>2.430</td>\n",
       "      <td>2.275</td>\n",
       "      <td>1.914</td>\n",
       "      <td>1.497</td>\n",
       "    </tr>\n",
       "    <tr>\n",
       "      <th>11633356</th>\n",
       "      <td>0.153</td>\n",
       "      <td>0.123</td>\n",
       "      <td>0.146</td>\n",
       "      <td>0.101</td>\n",
       "      <td>0.140</td>\n",
       "      <td>0.108</td>\n",
       "      <td>0.121</td>\n",
       "      <td>0.127</td>\n",
       "      <td>0.110</td>\n",
       "      <td>0.132</td>\n",
       "      <td>...</td>\n",
       "      <td>0.216</td>\n",
       "      <td>0.237</td>\n",
       "      <td>0.213</td>\n",
       "      <td>0.258</td>\n",
       "      <td>0.275</td>\n",
       "      <td>0.219</td>\n",
       "      <td>0.218</td>\n",
       "      <td>0.079</td>\n",
       "      <td>0.049</td>\n",
       "      <td>0.055</td>\n",
       "    </tr>\n",
       "    <tr>\n",
       "      <th>11649905</th>\n",
       "      <td>0.187</td>\n",
       "      <td>0.004</td>\n",
       "      <td>0.004</td>\n",
       "      <td>0.004</td>\n",
       "      <td>0.004</td>\n",
       "      <td>0.004</td>\n",
       "      <td>0.005</td>\n",
       "      <td>0.004</td>\n",
       "      <td>0.004</td>\n",
       "      <td>0.005</td>\n",
       "      <td>...</td>\n",
       "      <td>0.004</td>\n",
       "      <td>0.005</td>\n",
       "      <td>0.526</td>\n",
       "      <td>0.005</td>\n",
       "      <td>0.004</td>\n",
       "      <td>0.004</td>\n",
       "      <td>0.004</td>\n",
       "      <td>0.004</td>\n",
       "      <td>0.004</td>\n",
       "      <td>0.004</td>\n",
       "    </tr>\n",
       "  </tbody>\n",
       "</table>\n",
       "<p>5 rows × 2880 columns</p>\n",
       "</div>"
      ],
      "text/plain": [
       "          Interval_1  Interval_2  Interval_3  Interval_4  Interval_5  \\\n",
       "House ID                                                               \n",
       "11643173       1.013       0.215       0.217       0.217       0.217   \n",
       "11655020       1.325       1.413       0.813       0.588       0.213   \n",
       "11644367       1.543       1.636       1.683       1.556       1.935   \n",
       "11633356       0.153       0.123       0.146       0.101       0.140   \n",
       "11649905       0.187       0.004       0.004       0.004       0.004   \n",
       "\n",
       "          Interval_6  Interval_7  Interval_8  Interval_9  Interval_10  \\\n",
       "House ID                                                                \n",
       "11643173       0.220       0.220       0.215       0.215        0.213   \n",
       "11655020       0.175       0.163       0.200       0.175        0.200   \n",
       "11644367       2.393       2.601       2.709       2.590        2.673   \n",
       "11633356       0.108       0.121       0.127       0.110        0.132   \n",
       "11649905       0.004       0.005       0.004       0.004        0.005   \n",
       "\n",
       "              ...        Interval_2871  Interval_2872  Interval_2873  \\\n",
       "House ID      ...                                                      \n",
       "11643173      ...                1.059          0.308          1.248   \n",
       "11655020      ...                0.750          0.625          0.450   \n",
       "11644367      ...                2.208          2.423          2.458   \n",
       "11633356      ...                0.216          0.237          0.213   \n",
       "11649905      ...                0.004          0.005          0.526   \n",
       "\n",
       "          Interval_2874  Interval_2875  Interval_2876  Interval_2877  \\\n",
       "House ID                                                               \n",
       "11643173          0.236          0.206          0.210          0.218   \n",
       "11655020          1.325          0.350          0.313          0.188   \n",
       "11644367          2.487          2.354          2.444          2.430   \n",
       "11633356          0.258          0.275          0.219          0.218   \n",
       "11649905          0.005          0.004          0.004          0.004   \n",
       "\n",
       "          Interval_2878  Interval_2879  Interval_2880  \n",
       "House ID                                               \n",
       "11643173          0.219          0.909          0.202  \n",
       "11655020          0.200          0.188          0.175  \n",
       "11644367          2.275          1.914          1.497  \n",
       "11633356          0.079          0.049          0.055  \n",
       "11649905          0.004          0.004          0.004  \n",
       "\n",
       "[5 rows x 2880 columns]"
      ]
     },
     "execution_count": 3,
     "metadata": {},
     "output_type": "execute_result"
    }
   ],
   "source": [
    "EV_test = pd.read_csv(\"EV_test.csv\", index_col='House ID')\n",
    "EV_test.fillna(-1,inplace = True)\n",
    "EV_test.head()"
   ]
  },
  {
   "cell_type": "code",
   "execution_count": 4,
   "metadata": {
    "collapsed": false
   },
   "outputs": [
    {
     "data": {
      "text/html": [
       "<iframe id=\"igraph\" scrolling=\"no\" style=\"border:none;\"seamless=\"seamless\" src=\"https://plot.ly/~scsherm/174.embed\" height=\"525px\" width=\"100%\"></iframe>"
      ],
      "text/plain": [
       "<plotly.tools.PlotlyDisplay object>"
      ]
     },
     "execution_count": 4,
     "metadata": {},
     "output_type": "execute_result"
    }
   ],
   "source": [
    "import plotly.plotly as py\n",
    "import plotly.graph_objs as go\n",
    "import plotly.tools as tls\n",
    "py.sign_in('scsherm', 'ml0wer7f1s')\n",
    "\n",
    "data = [go.Scatter(\n",
    "        x = range(1,len(EV_test)), \n",
    "        y = EV_test.mean(axis=0), \n",
    "        mode = 'lines')]\n",
    "    \n",
    "layout2 = go.Layout(\n",
    "    title='Mean Energy Use of EV_test Dataset',\n",
    "    xaxis=dict(\n",
    "        title='Interval',\n",
    "        titlefont=dict(\n",
    "            family='Courier New, monospace',\n",
    "            size=18,\n",
    "            color='#7f7f7f'\n",
    "        )\n",
    "    ),\n",
    "    yaxis=dict(\n",
    "        title='Mean Energy Use',\n",
    "        titlefont=dict(\n",
    "            family='Courier New, monospace',\n",
    "            size=18,\n",
    "            color='#7f7f7f'\n",
    "        )\n",
    "    )\n",
    ")\n",
    "EV_ts = go.Figure(data=data, layout=layout2)    \n",
    "py.iplot(EV_ts)"
   ]
  },
  {
   "cell_type": "code",
   "execution_count": 46,
   "metadata": {
    "collapsed": false
   },
   "outputs": [],
   "source": [
    "XGB=None\n",
    "(etf_recall, etf_AUC, etf_precision, etf_AUC2, etf_mean_fpr, \n",
    " etf_mean_tpr, etf_thresholds, etf_pred2, etf_y_test, etf_clf) = run_model(X, y, ETF)"
   ]
  },
  {
   "cell_type": "code",
   "execution_count": 47,
   "metadata": {
    "collapsed": true
   },
   "outputs": [],
   "source": [
    "check_ones = etf_clf.predict(EV_test.values)"
   ]
  },
  {
   "cell_type": "code",
   "execution_count": 48,
   "metadata": {
    "collapsed": false
   },
   "outputs": [
    {
     "data": {
      "text/plain": [
       "0.19456366237482117"
      ]
     },
     "execution_count": 48,
     "metadata": {},
     "output_type": "execute_result"
    }
   ],
   "source": [
    "check_ones.sum()/(len(check_ones)*1.0)"
   ]
  },
  {
   "cell_type": "code",
   "execution_count": 54,
   "metadata": {
    "collapsed": false
   },
   "outputs": [
    {
     "data": {
      "text/html": [
       "<iframe id=\"igraph\" scrolling=\"no\" style=\"border:none;\"seamless=\"seamless\" src=\"https://plot.ly/~scsherm/180.embed\" height=\"525px\" width=\"100%\"></iframe>"
      ],
      "text/plain": [
       "<plotly.tools.PlotlyDisplay object>"
      ]
     },
     "execution_count": 54,
     "metadata": {},
     "output_type": "execute_result"
    }
   ],
   "source": [
    "import plotly.plotly as py\n",
    "import plotly.graph_objs as go\n",
    "import plotly.tools as tls\n",
    "py.sign_in('scsherm', 'ml0wer7f1s')\n",
    "\n",
    "data = [go.Scatter(\n",
    "        x = range(1,len(EV_test)), \n",
    "        y = EV_test.iloc[check_ones == 1].mean(axis=0), \n",
    "        mode = 'lines')]\n",
    "    \n",
    "layout2 = go.Layout(\n",
    "    title='Mean Energy Use of EV_test Dataset for Predicted ',\n",
    "    xaxis=dict(\n",
    "        title='Interval',\n",
    "        titlefont=dict(\n",
    "            family='Courier New, monospace',\n",
    "            size=18,\n",
    "            color='#7f7f7f'\n",
    "        )\n",
    "    ),\n",
    "    yaxis=dict(\n",
    "        title='Mean Energy Use',\n",
    "        titlefont=dict(\n",
    "            family='Courier New, monospace',\n",
    "            size=18,\n",
    "            color='#7f7f7f'\n",
    "        )\n",
    "    )\n",
    ")\n",
    "EV_ts2 = go.Figure(data=data, layout=layout2)    \n",
    "py.iplot(EV_ts2)"
   ]
  },
  {
   "cell_type": "markdown",
   "metadata": {},
   "source": [
    "The rows, of which the model believes to be housholds with EV's, show a structure for mean energy use per interval similar to what was modeled from the labeled data. This leads me to believe the model is predicting these classifications well. Additionally, assuming the predictions are correct, I know the majority of cases in the test set are households without electric vehicles. "
   ]
  },
  {
   "cell_type": "markdown",
   "metadata": {},
   "source": [
    "### Model with just EV households"
   ]
  },
  {
   "cell_type": "code",
   "execution_count": 7,
   "metadata": {
    "collapsed": false
   },
   "outputs": [],
   "source": [
    "from sklearn.multiclass import OneVsRestClassifier\n",
    "\n",
    "X_multi_label = EV.iloc[np.where(y==1)[0]].values #EV Houses only\n",
    "y_multi_label = EV_labels.iloc[np.where(y==1)[0]].values #EV Houses only\n",
    "\n",
    "X_train, X_test, y_train, y_test = train_test_split(X_multi_label, y_multi_label, \n",
    "    test_size = 0.2, random_state = 42)"
   ]
  },
  {
   "cell_type": "code",
   "execution_count": 8,
   "metadata": {
    "collapsed": false
   },
   "outputs": [
    {
     "name": "stderr",
     "output_type": "stream",
     "text": [
      "//anaconda/lib/python2.7/site-packages/sklearn/multiclass.py:70: UserWarning:\n",
      "\n",
      "Label not 2840 is present in all training examples.\n",
      "\n",
      "//anaconda/lib/python2.7/site-packages/sklearn/multiclass.py:70: UserWarning:\n",
      "\n",
      "Label not 2841 is present in all training examples.\n",
      "\n",
      "//anaconda/lib/python2.7/site-packages/sklearn/multiclass.py:70: UserWarning:\n",
      "\n",
      "Label not 2843 is present in all training examples.\n",
      "\n",
      "//anaconda/lib/python2.7/site-packages/sklearn/multiclass.py:70: UserWarning:\n",
      "\n",
      "Label not 2846 is present in all training examples.\n",
      "\n",
      "//anaconda/lib/python2.7/site-packages/sklearn/multiclass.py:70: UserWarning:\n",
      "\n",
      "Label not 2858 is present in all training examples.\n",
      "\n",
      "//anaconda/lib/python2.7/site-packages/sklearn/multiclass.py:70: UserWarning:\n",
      "\n",
      "Label not 2863 is present in all training examples.\n",
      "\n",
      "//anaconda/lib/python2.7/site-packages/sklearn/multiclass.py:70: UserWarning:\n",
      "\n",
      "Label not 2869 is present in all training examples.\n",
      "\n",
      "//anaconda/lib/python2.7/site-packages/sklearn/multiclass.py:70: UserWarning:\n",
      "\n",
      "Label not 2876 is present in all training examples.\n",
      "\n",
      "//anaconda/lib/python2.7/site-packages/sklearn/multiclass.py:70: UserWarning:\n",
      "\n",
      "Label not 2842 is present in all training examples.\n",
      "\n",
      "//anaconda/lib/python2.7/site-packages/sklearn/multiclass.py:70: UserWarning:\n",
      "\n",
      "Label not 2845 is present in all training examples.\n",
      "\n",
      "//anaconda/lib/python2.7/site-packages/sklearn/multiclass.py:70: UserWarning:\n",
      "\n",
      "Label not 2849 is present in all training examples.\n",
      "\n",
      "//anaconda/lib/python2.7/site-packages/sklearn/multiclass.py:70: UserWarning:\n",
      "\n",
      "Label not 2857 is present in all training examples.\n",
      "\n",
      "//anaconda/lib/python2.7/site-packages/sklearn/multiclass.py:70: UserWarning:\n",
      "\n",
      "Label not 2868 is present in all training examples.\n",
      "\n",
      "//anaconda/lib/python2.7/site-packages/sklearn/multiclass.py:70: UserWarning:\n",
      "\n",
      "Label not 2871 is present in all training examples.\n",
      "\n",
      "//anaconda/lib/python2.7/site-packages/sklearn/multiclass.py:70: UserWarning:\n",
      "\n",
      "Label not 2844 is present in all training examples.\n",
      "\n",
      "//anaconda/lib/python2.7/site-packages/sklearn/multiclass.py:70: UserWarning:\n",
      "\n",
      "Label not 2848 is present in all training examples.\n",
      "\n",
      "//anaconda/lib/python2.7/site-packages/sklearn/multiclass.py:70: UserWarning:\n",
      "\n",
      "Label not 2852 is present in all training examples.\n",
      "\n",
      "//anaconda/lib/python2.7/site-packages/sklearn/multiclass.py:70: UserWarning:\n",
      "\n",
      "Label not 2862 is present in all training examples.\n",
      "\n",
      "//anaconda/lib/python2.7/site-packages/sklearn/multiclass.py:70: UserWarning:\n",
      "\n",
      "Label not 2875 is present in all training examples.\n",
      "\n",
      "//anaconda/lib/python2.7/site-packages/sklearn/multiclass.py:70: UserWarning:\n",
      "\n",
      "Label not 2878 is present in all training examples.\n",
      "\n",
      "//anaconda/lib/python2.7/site-packages/sklearn/multiclass.py:70: UserWarning:\n",
      "\n",
      "Label not 2847 is present in all training examples.\n",
      "\n",
      "//anaconda/lib/python2.7/site-packages/sklearn/multiclass.py:70: UserWarning:\n",
      "\n",
      "Label not 2851 is present in all training examples.\n",
      "\n",
      "//anaconda/lib/python2.7/site-packages/sklearn/multiclass.py:70: UserWarning:\n",
      "\n",
      "Label not 2855 is present in all training examples.\n",
      "\n",
      "//anaconda/lib/python2.7/site-packages/sklearn/multiclass.py:70: UserWarning:\n",
      "\n",
      "Label not 2867 is present in all training examples.\n",
      "\n",
      "//anaconda/lib/python2.7/site-packages/sklearn/multiclass.py:70: UserWarning:\n",
      "\n",
      "Label not 2850 is present in all training examples.\n",
      "\n",
      "//anaconda/lib/python2.7/site-packages/sklearn/multiclass.py:70: UserWarning:\n",
      "\n",
      "Label not 2854 is present in all training examples.\n",
      "\n",
      "//anaconda/lib/python2.7/site-packages/sklearn/multiclass.py:70: UserWarning:\n",
      "\n",
      "Label not 2860 is present in all training examples.\n",
      "\n",
      "//anaconda/lib/python2.7/site-packages/sklearn/multiclass.py:70: UserWarning:\n",
      "\n",
      "Label not 2874 is present in all training examples.\n",
      "\n",
      "//anaconda/lib/python2.7/site-packages/sklearn/multiclass.py:70: UserWarning:\n",
      "\n",
      "Label not 2853 is present in all training examples.\n",
      "\n",
      "//anaconda/lib/python2.7/site-packages/sklearn/multiclass.py:70: UserWarning:\n",
      "\n",
      "Label not 2859 is present in all training examples.\n",
      "\n",
      "//anaconda/lib/python2.7/site-packages/sklearn/multiclass.py:70: UserWarning:\n",
      "\n",
      "Label not 2865 is present in all training examples.\n",
      "\n",
      "//anaconda/lib/python2.7/site-packages/sklearn/multiclass.py:70: UserWarning:\n",
      "\n",
      "Label not 2856 is present in all training examples.\n",
      "\n",
      "//anaconda/lib/python2.7/site-packages/sklearn/multiclass.py:70: UserWarning:\n",
      "\n",
      "Label not 2864 is present in all training examples.\n",
      "\n",
      "//anaconda/lib/python2.7/site-packages/sklearn/multiclass.py:70: UserWarning:\n",
      "\n",
      "Label not 2872 is present in all training examples.\n",
      "\n",
      "//anaconda/lib/python2.7/site-packages/sklearn/multiclass.py:70: UserWarning:\n",
      "\n",
      "Label not 2861 is present in all training examples.\n",
      "\n",
      "//anaconda/lib/python2.7/site-packages/sklearn/multiclass.py:70: UserWarning:\n",
      "\n",
      "Label not 2870 is present in all training examples.\n",
      "\n",
      "//anaconda/lib/python2.7/site-packages/sklearn/multiclass.py:70: UserWarning:\n",
      "\n",
      "Label not 2879 is present in all training examples.\n",
      "\n",
      "//anaconda/lib/python2.7/site-packages/sklearn/multiclass.py:70: UserWarning:\n",
      "\n",
      "Label not 2866 is present in all training examples.\n",
      "\n",
      "//anaconda/lib/python2.7/site-packages/sklearn/multiclass.py:70: UserWarning:\n",
      "\n",
      "Label not 2877 is present in all training examples.\n",
      "\n",
      "//anaconda/lib/python2.7/site-packages/sklearn/multiclass.py:70: UserWarning:\n",
      "\n",
      "Label not 2873 is present in all training examples.\n",
      "\n"
     ]
    },
    {
     "data": {
      "text/plain": [
       "OneVsRestClassifier(estimator=ExtraTreesClassifier(bootstrap=False, class_weight=None, criterion='gini',\n",
       "           max_depth=None, max_features='auto', max_leaf_nodes=None,\n",
       "           min_samples_leaf=1, min_samples_split=2,\n",
       "           min_weight_fraction_leaf=0.0, n_estimators=1000, n_jobs=1,\n",
       "           oob_score=False, random_state=None, verbose=0, warm_start=False),\n",
       "          n_jobs=-1)"
      ]
     },
     "execution_count": 8,
     "metadata": {},
     "output_type": "execute_result"
    }
   ],
   "source": [
    "clf = OneVsRestClassifier(ETF(n_estimators=1000), n_jobs = -1)\n",
    "clf.fit(X_train, y_train)"
   ]
  },
  {
   "cell_type": "code",
   "execution_count": 9,
   "metadata": {
    "collapsed": true
   },
   "outputs": [],
   "source": [
    "y_pred = clf.predict(X_test)"
   ]
  },
  {
   "cell_type": "code",
   "execution_count": 10,
   "metadata": {
    "collapsed": false
   },
   "outputs": [],
   "source": [
    "multi_label_recall = recall_score(y_pred, y_test, average = 'micro') \n",
    "multi_label_precision = precision_score(y_pred, y_test, average = 'micro')\n",
    "multi_label_PRC = average_precision_score(y_pred, y_test, average = 'micro')\n",
    "multi_label_AUC = roc_auc_score(y_pred, y_test, average = 'micro')"
   ]
  },
  {
   "cell_type": "code",
   "execution_count": 11,
   "metadata": {
    "collapsed": false
   },
   "outputs": [
    {
     "name": "stdout",
     "output_type": "stream",
     "text": [
      "Recall: 0.843120260022, Precision: 0.181712044085, PR_Curve: 0.513711971068, AUC: 0.889672379551\n"
     ]
    }
   ],
   "source": [
    "print \"Recall: {}, Precision: {}, PR_Curve: {}, AUC: {}\".format(multi_label_recall, \n",
    "        multi_label_precision, multi_label_PRC, multi_label_AUC) "
   ]
  },
  {
   "cell_type": "code",
   "execution_count": 12,
   "metadata": {
    "collapsed": false
   },
   "outputs": [
    {
     "name": "stdout",
     "output_type": "stream",
     "text": [
      "279360 Total values in dataset\n"
     ]
    }
   ],
   "source": [
    "print \"{} Total values in dataset\".format(len(y_test.T)*len(y_test))"
   ]
  },
  {
   "cell_type": "code",
   "execution_count": 14,
   "metadata": {
    "collapsed": false
   },
   "outputs": [
    {
     "name": "stdout",
     "output_type": "stream",
     "text": [
      "7.66502004582% of the values are 1\n"
     ]
    }
   ],
   "source": [
    "print \"{}% of the values are 1\".format(y_test.sum()/(len(y_test.T)*len(y_test)*1.0)*100)"
   ]
  },
  {
   "cell_type": "code",
   "execution_count": 15,
   "metadata": {
    "collapsed": false,
    "scrolled": true
   },
   "outputs": [
    {
     "name": "stdout",
     "output_type": "stream",
     "text": [
      "The potential accuracy of the model is 93.4686426117%\n"
     ]
    }
   ],
   "source": [
    "print \"The potential accuracy of the model is {}%\".format(np.mean(y_test == y_pred)*100)"
   ]
  },
  {
   "cell_type": "markdown",
   "metadata": {},
   "source": [
    "### Model with all households"
   ]
  },
  {
   "cell_type": "code",
   "execution_count": 16,
   "metadata": {
    "collapsed": true
   },
   "outputs": [],
   "source": [
    "X_multi_label2 = EV.values #All houses\n",
    "y_multi_label2 = EV_labels.values #All houses\n",
    "\n",
    "X_train2, X_test2, y_train2, y_test2 = train_test_split(X_multi_label2, y_multi_label2, \n",
    "    test_size = 0.2, random_state = 42, stratify = y)"
   ]
  },
  {
   "cell_type": "code",
   "execution_count": 17,
   "metadata": {
    "collapsed": false
   },
   "outputs": [
    {
     "name": "stderr",
     "output_type": "stream",
     "text": [
      "//anaconda/lib/python2.7/site-packages/sklearn/multiclass.py:70: UserWarning:\n",
      "\n",
      "Label not 2838 is present in all training examples.\n",
      "\n",
      "//anaconda/lib/python2.7/site-packages/sklearn/multiclass.py:70: UserWarning:\n",
      "\n",
      "Label not 2839 is present in all training examples.\n",
      "\n",
      "//anaconda/lib/python2.7/site-packages/sklearn/multiclass.py:70: UserWarning:\n",
      "\n",
      "Label not 2840 is present in all training examples.\n",
      "\n",
      "//anaconda/lib/python2.7/site-packages/sklearn/multiclass.py:70: UserWarning:\n",
      "\n",
      "Label not 2842 is present in all training examples.\n",
      "\n",
      "//anaconda/lib/python2.7/site-packages/sklearn/multiclass.py:70: UserWarning:\n",
      "\n",
      "Label not 2844 is present in all training examples.\n",
      "\n",
      "//anaconda/lib/python2.7/site-packages/sklearn/multiclass.py:70: UserWarning:\n",
      "\n",
      "Label not 2870 is present in all training examples.\n",
      "\n",
      "//anaconda/lib/python2.7/site-packages/sklearn/multiclass.py:70: UserWarning:\n",
      "\n",
      "Label not 2841 is present in all training examples.\n",
      "\n",
      "//anaconda/lib/python2.7/site-packages/sklearn/multiclass.py:70: UserWarning:\n",
      "\n",
      "Label not 2843 is present in all training examples.\n",
      "\n",
      "//anaconda/lib/python2.7/site-packages/sklearn/multiclass.py:70: UserWarning:\n",
      "\n",
      "Label not 2846 is present in all training examples.\n",
      "\n",
      "//anaconda/lib/python2.7/site-packages/sklearn/multiclass.py:70: UserWarning:\n",
      "\n",
      "Label not 2848 is present in all training examples.\n",
      "\n",
      "//anaconda/lib/python2.7/site-packages/sklearn/multiclass.py:70: UserWarning:\n",
      "\n",
      "Label not 2854 is present in all training examples.\n",
      "\n",
      "//anaconda/lib/python2.7/site-packages/sklearn/multiclass.py:70: UserWarning:\n",
      "\n",
      "Label not 2878 is present in all training examples.\n",
      "\n",
      "//anaconda/lib/python2.7/site-packages/sklearn/multiclass.py:70: UserWarning:\n",
      "\n",
      "Label not 2845 is present in all training examples.\n",
      "\n",
      "//anaconda/lib/python2.7/site-packages/sklearn/multiclass.py:70: UserWarning:\n",
      "\n",
      "Label not 2847 is present in all training examples.\n",
      "\n",
      "//anaconda/lib/python2.7/site-packages/sklearn/multiclass.py:70: UserWarning:\n",
      "\n",
      "Label not 2850 is present in all training examples.\n",
      "\n",
      "//anaconda/lib/python2.7/site-packages/sklearn/multiclass.py:70: UserWarning:\n",
      "\n",
      "Label not 2852 is present in all training examples.\n",
      "\n",
      "//anaconda/lib/python2.7/site-packages/sklearn/multiclass.py:70: UserWarning:\n",
      "\n",
      "Label not 2859 is present in all training examples.\n",
      "\n",
      "//anaconda/lib/python2.7/site-packages/sklearn/multiclass.py:70: UserWarning:\n",
      "\n",
      "Label not 2849 is present in all training examples.\n",
      "\n",
      "//anaconda/lib/python2.7/site-packages/sklearn/multiclass.py:70: UserWarning:\n",
      "\n",
      "Label not 2851 is present in all training examples.\n",
      "\n",
      "//anaconda/lib/python2.7/site-packages/sklearn/multiclass.py:70: UserWarning:\n",
      "\n",
      "Label not 2855 is present in all training examples.\n",
      "\n",
      "//anaconda/lib/python2.7/site-packages/sklearn/multiclass.py:70: UserWarning:\n",
      "\n",
      "Label not 2857 is present in all training examples.\n",
      "\n",
      "//anaconda/lib/python2.7/site-packages/sklearn/multiclass.py:70: UserWarning:\n",
      "\n",
      "Label not 2864 is present in all training examples.\n",
      "\n",
      "//anaconda/lib/python2.7/site-packages/sklearn/multiclass.py:70: UserWarning:\n",
      "\n",
      "Label not 2853 is present in all training examples.\n",
      "\n",
      "//anaconda/lib/python2.7/site-packages/sklearn/multiclass.py:70: UserWarning:\n",
      "\n",
      "Label not 2856 is present in all training examples.\n",
      "\n",
      "//anaconda/lib/python2.7/site-packages/sklearn/multiclass.py:70: UserWarning:\n",
      "\n",
      "Label not 2860 is present in all training examples.\n",
      "\n",
      "//anaconda/lib/python2.7/site-packages/sklearn/multiclass.py:70: UserWarning:\n",
      "\n",
      "Label not 2862 is present in all training examples.\n",
      "\n",
      "//anaconda/lib/python2.7/site-packages/sklearn/multiclass.py:70: UserWarning:\n",
      "\n",
      "Label not 2869 is present in all training examples.\n",
      "\n",
      "//anaconda/lib/python2.7/site-packages/sklearn/multiclass.py:70: UserWarning:\n",
      "\n",
      "Label not 2858 is present in all training examples.\n",
      "\n",
      "//anaconda/lib/python2.7/site-packages/sklearn/multiclass.py:70: UserWarning:\n",
      "\n",
      "Label not 2861 is present in all training examples.\n",
      "\n",
      "//anaconda/lib/python2.7/site-packages/sklearn/multiclass.py:70: UserWarning:\n",
      "\n",
      "Label not 2865 is present in all training examples.\n",
      "\n",
      "//anaconda/lib/python2.7/site-packages/sklearn/multiclass.py:70: UserWarning:\n",
      "\n",
      "Label not 2867 is present in all training examples.\n",
      "\n",
      "//anaconda/lib/python2.7/site-packages/sklearn/multiclass.py:70: UserWarning:\n",
      "\n",
      "Label not 2875 is present in all training examples.\n",
      "\n",
      "//anaconda/lib/python2.7/site-packages/sklearn/multiclass.py:70: UserWarning:\n",
      "\n",
      "Label not 2863 is present in all training examples.\n",
      "\n",
      "//anaconda/lib/python2.7/site-packages/sklearn/multiclass.py:70: UserWarning:\n",
      "\n",
      "Label not 2866 is present in all training examples.\n",
      "\n",
      "//anaconda/lib/python2.7/site-packages/sklearn/multiclass.py:70: UserWarning:\n",
      "\n",
      "Label not 2871 is present in all training examples.\n",
      "\n",
      "//anaconda/lib/python2.7/site-packages/sklearn/multiclass.py:70: UserWarning:\n",
      "\n",
      "Label not 2873 is present in all training examples.\n",
      "\n",
      "//anaconda/lib/python2.7/site-packages/sklearn/multiclass.py:70: UserWarning:\n",
      "\n",
      "Label not 2868 is present in all training examples.\n",
      "\n",
      "//anaconda/lib/python2.7/site-packages/sklearn/multiclass.py:70: UserWarning:\n",
      "\n",
      "Label not 2872 is present in all training examples.\n",
      "\n",
      "//anaconda/lib/python2.7/site-packages/sklearn/multiclass.py:70: UserWarning:\n",
      "\n",
      "Label not 2876 is present in all training examples.\n",
      "\n",
      "//anaconda/lib/python2.7/site-packages/sklearn/multiclass.py:70: UserWarning:\n",
      "\n",
      "Label not 2879 is present in all training examples.\n",
      "\n",
      "//anaconda/lib/python2.7/site-packages/sklearn/multiclass.py:70: UserWarning:\n",
      "\n",
      "Label not 2874 is present in all training examples.\n",
      "\n",
      "//anaconda/lib/python2.7/site-packages/sklearn/multiclass.py:70: UserWarning:\n",
      "\n",
      "Label not 2877 is present in all training examples.\n",
      "\n"
     ]
    },
    {
     "data": {
      "text/plain": [
       "OneVsRestClassifier(estimator=ExtraTreesClassifier(bootstrap=False, class_weight=None, criterion='gini',\n",
       "           max_depth=None, max_features='auto', max_leaf_nodes=None,\n",
       "           min_samples_leaf=1, min_samples_split=2,\n",
       "           min_weight_fraction_leaf=0.0, n_estimators=1000, n_jobs=1,\n",
       "           oob_score=False, random_state=None, verbose=0, warm_start=False),\n",
       "          n_jobs=-1)"
      ]
     },
     "execution_count": 17,
     "metadata": {},
     "output_type": "execute_result"
    }
   ],
   "source": [
    "clf2 = OneVsRestClassifier(ETF(n_estimators=1000), n_jobs = -1)\n",
    "clf2.fit(X_train2, y_train2)"
   ]
  },
  {
   "cell_type": "code",
   "execution_count": 18,
   "metadata": {
    "collapsed": true
   },
   "outputs": [],
   "source": [
    "y_pred2 = clf2.predict(X_test2)"
   ]
  },
  {
   "cell_type": "code",
   "execution_count": 19,
   "metadata": {
    "collapsed": true
   },
   "outputs": [],
   "source": [
    "multi_label_recall2 = recall_score(y_pred2, y_test2, average = 'micro') \n",
    "multi_label_precision2 = precision_score(y_pred2, y_test2, average = 'micro')\n",
    "multi_label_PRC2 = average_precision_score(y_pred2, y_test2, average = 'micro')\n",
    "multi_label_AUC2 = roc_auc_score(y_pred2, y_test2, average = 'micro')"
   ]
  },
  {
   "cell_type": "code",
   "execution_count": 20,
   "metadata": {
    "collapsed": false
   },
   "outputs": [
    {
     "name": "stdout",
     "output_type": "stream",
     "text": [
      "Recall: 0.895486935867, Precision: 0.0894679386777, PR_Curve: 0.492597545588, AUC: 0.937245894786\n"
     ]
    }
   ],
   "source": [
    "print \"Recall: {}, Precision: {}, PR_Curve: {}, AUC: {}\".format(multi_label_recall2, \n",
    "        multi_label_precision2, multi_label_PRC2, multi_label_AUC2) "
   ]
  },
  {
   "cell_type": "code",
   "execution_count": 21,
   "metadata": {
    "collapsed": false
   },
   "outputs": [
    {
     "name": "stdout",
     "output_type": "stream",
     "text": [
      "915840 Total values in dataset\n"
     ]
    }
   ],
   "source": [
    "print \"{} Total values in dataset\".format(len(y_test2.T)*len(y_test2))"
   ]
  },
  {
   "cell_type": "code",
   "execution_count": 22,
   "metadata": {
    "collapsed": false
   },
   "outputs": [
    {
     "name": "stdout",
     "output_type": "stream",
     "text": [
      "2.33807215234% of the values are 1\n"
     ]
    }
   ],
   "source": [
    "print \"{}% of the values are 1\".format(y_test.sum()/(len(y_test2.T)*len(y_test2)*1.0)*100)"
   ]
  },
  {
   "cell_type": "code",
   "execution_count": 23,
   "metadata": {
    "collapsed": false
   },
   "outputs": [
    {
     "name": "stdout",
     "output_type": "stream",
     "text": [
      "The potential accuracy of the model is 97.8812893082%\n"
     ]
    }
   ],
   "source": [
    "print \"The potential accuracy of the model is {}%\".format(np.mean(y_test2 == y_pred2)*100)"
   ]
  },
  {
   "cell_type": "markdown",
   "metadata": {},
   "source": [
    "### Examining the feasability of both models on test data"
   ]
  },
  {
   "cell_type": "code",
   "execution_count": 24,
   "metadata": {
    "collapsed": false
   },
   "outputs": [],
   "source": [
    "submission = clf.predict_proba(EV_test.values)"
   ]
  },
  {
   "cell_type": "code",
   "execution_count": 25,
   "metadata": {
    "collapsed": false
   },
   "outputs": [],
   "source": [
    "count_positives = submission > 0.5"
   ]
  },
  {
   "cell_type": "code",
   "execution_count": 26,
   "metadata": {
    "collapsed": false
   },
   "outputs": [
    {
     "data": {
      "text/plain": [
       "0.0068177753934191704"
      ]
     },
     "execution_count": 26,
     "metadata": {},
     "output_type": "execute_result"
    }
   ],
   "source": [
    "count_positives.sum()/2013120."
   ]
  },
  {
   "cell_type": "code",
   "execution_count": 27,
   "metadata": {
    "collapsed": false
   },
   "outputs": [
    {
     "data": {
      "text/html": [
       "<div>\n",
       "<table border=\"1\" class=\"dataframe\">\n",
       "  <thead>\n",
       "    <tr style=\"text-align: right;\">\n",
       "      <th></th>\n",
       "      <th>Interval_1</th>\n",
       "      <th>Interval_2</th>\n",
       "      <th>Interval_3</th>\n",
       "      <th>Interval_4</th>\n",
       "      <th>Interval_5</th>\n",
       "      <th>Interval_6</th>\n",
       "      <th>Interval_7</th>\n",
       "      <th>Interval_8</th>\n",
       "      <th>Interval_9</th>\n",
       "      <th>Interval_10</th>\n",
       "      <th>...</th>\n",
       "      <th>Interval_2871</th>\n",
       "      <th>Interval_2872</th>\n",
       "      <th>Interval_2873</th>\n",
       "      <th>Interval_2874</th>\n",
       "      <th>Interval_2875</th>\n",
       "      <th>Interval_2876</th>\n",
       "      <th>Interval_2877</th>\n",
       "      <th>Interval_2878</th>\n",
       "      <th>Interval_2879</th>\n",
       "      <th>Interval_2880</th>\n",
       "    </tr>\n",
       "    <tr>\n",
       "      <th>House ID</th>\n",
       "      <th></th>\n",
       "      <th></th>\n",
       "      <th></th>\n",
       "      <th></th>\n",
       "      <th></th>\n",
       "      <th></th>\n",
       "      <th></th>\n",
       "      <th></th>\n",
       "      <th></th>\n",
       "      <th></th>\n",
       "      <th></th>\n",
       "      <th></th>\n",
       "      <th></th>\n",
       "      <th></th>\n",
       "      <th></th>\n",
       "      <th></th>\n",
       "      <th></th>\n",
       "      <th></th>\n",
       "      <th></th>\n",
       "      <th></th>\n",
       "      <th></th>\n",
       "    </tr>\n",
       "  </thead>\n",
       "  <tbody>\n",
       "    <tr>\n",
       "      <th>11643173</th>\n",
       "      <td>0.002</td>\n",
       "      <td>0.004</td>\n",
       "      <td>0.012</td>\n",
       "      <td>0.008</td>\n",
       "      <td>0.007</td>\n",
       "      <td>0.012</td>\n",
       "      <td>0.013</td>\n",
       "      <td>0.002</td>\n",
       "      <td>0.003</td>\n",
       "      <td>0.006</td>\n",
       "      <td>...</td>\n",
       "      <td>0.0</td>\n",
       "      <td>0.0</td>\n",
       "      <td>0.0</td>\n",
       "      <td>0.0</td>\n",
       "      <td>0.0</td>\n",
       "      <td>0.0</td>\n",
       "      <td>0.0</td>\n",
       "      <td>0.0</td>\n",
       "      <td>0.0</td>\n",
       "      <td>0.0</td>\n",
       "    </tr>\n",
       "    <tr>\n",
       "      <th>11655020</th>\n",
       "      <td>0.014</td>\n",
       "      <td>0.035</td>\n",
       "      <td>0.038</td>\n",
       "      <td>0.035</td>\n",
       "      <td>0.044</td>\n",
       "      <td>0.016</td>\n",
       "      <td>0.039</td>\n",
       "      <td>0.044</td>\n",
       "      <td>0.045</td>\n",
       "      <td>0.048</td>\n",
       "      <td>...</td>\n",
       "      <td>0.0</td>\n",
       "      <td>0.0</td>\n",
       "      <td>0.0</td>\n",
       "      <td>0.0</td>\n",
       "      <td>0.0</td>\n",
       "      <td>0.0</td>\n",
       "      <td>0.0</td>\n",
       "      <td>0.0</td>\n",
       "      <td>0.0</td>\n",
       "      <td>0.0</td>\n",
       "    </tr>\n",
       "    <tr>\n",
       "      <th>11644367</th>\n",
       "      <td>0.047</td>\n",
       "      <td>0.110</td>\n",
       "      <td>0.125</td>\n",
       "      <td>0.185</td>\n",
       "      <td>0.116</td>\n",
       "      <td>0.115</td>\n",
       "      <td>0.135</td>\n",
       "      <td>0.059</td>\n",
       "      <td>0.059</td>\n",
       "      <td>0.044</td>\n",
       "      <td>...</td>\n",
       "      <td>0.0</td>\n",
       "      <td>0.0</td>\n",
       "      <td>0.0</td>\n",
       "      <td>0.0</td>\n",
       "      <td>0.0</td>\n",
       "      <td>0.0</td>\n",
       "      <td>0.0</td>\n",
       "      <td>0.0</td>\n",
       "      <td>0.0</td>\n",
       "      <td>0.0</td>\n",
       "    </tr>\n",
       "    <tr>\n",
       "      <th>11633356</th>\n",
       "      <td>0.003</td>\n",
       "      <td>0.004</td>\n",
       "      <td>0.026</td>\n",
       "      <td>0.032</td>\n",
       "      <td>0.021</td>\n",
       "      <td>0.026</td>\n",
       "      <td>0.029</td>\n",
       "      <td>0.015</td>\n",
       "      <td>0.007</td>\n",
       "      <td>0.011</td>\n",
       "      <td>...</td>\n",
       "      <td>0.0</td>\n",
       "      <td>0.0</td>\n",
       "      <td>0.0</td>\n",
       "      <td>0.0</td>\n",
       "      <td>0.0</td>\n",
       "      <td>0.0</td>\n",
       "      <td>0.0</td>\n",
       "      <td>0.0</td>\n",
       "      <td>0.0</td>\n",
       "      <td>0.0</td>\n",
       "    </tr>\n",
       "    <tr>\n",
       "      <th>11649905</th>\n",
       "      <td>0.008</td>\n",
       "      <td>0.004</td>\n",
       "      <td>0.015</td>\n",
       "      <td>0.012</td>\n",
       "      <td>0.015</td>\n",
       "      <td>0.010</td>\n",
       "      <td>0.041</td>\n",
       "      <td>0.009</td>\n",
       "      <td>0.013</td>\n",
       "      <td>0.013</td>\n",
       "      <td>...</td>\n",
       "      <td>0.0</td>\n",
       "      <td>0.0</td>\n",
       "      <td>0.0</td>\n",
       "      <td>0.0</td>\n",
       "      <td>0.0</td>\n",
       "      <td>0.0</td>\n",
       "      <td>0.0</td>\n",
       "      <td>0.0</td>\n",
       "      <td>0.0</td>\n",
       "      <td>0.0</td>\n",
       "    </tr>\n",
       "  </tbody>\n",
       "</table>\n",
       "<p>5 rows × 2880 columns</p>\n",
       "</div>"
      ],
      "text/plain": [
       "          Interval_1  Interval_2  Interval_3  Interval_4  Interval_5  \\\n",
       "House ID                                                               \n",
       "11643173       0.002       0.004       0.012       0.008       0.007   \n",
       "11655020       0.014       0.035       0.038       0.035       0.044   \n",
       "11644367       0.047       0.110       0.125       0.185       0.116   \n",
       "11633356       0.003       0.004       0.026       0.032       0.021   \n",
       "11649905       0.008       0.004       0.015       0.012       0.015   \n",
       "\n",
       "          Interval_6  Interval_7  Interval_8  Interval_9  Interval_10  \\\n",
       "House ID                                                                \n",
       "11643173       0.012       0.013       0.002       0.003        0.006   \n",
       "11655020       0.016       0.039       0.044       0.045        0.048   \n",
       "11644367       0.115       0.135       0.059       0.059        0.044   \n",
       "11633356       0.026       0.029       0.015       0.007        0.011   \n",
       "11649905       0.010       0.041       0.009       0.013        0.013   \n",
       "\n",
       "              ...        Interval_2871  Interval_2872  Interval_2873  \\\n",
       "House ID      ...                                                      \n",
       "11643173      ...                  0.0            0.0            0.0   \n",
       "11655020      ...                  0.0            0.0            0.0   \n",
       "11644367      ...                  0.0            0.0            0.0   \n",
       "11633356      ...                  0.0            0.0            0.0   \n",
       "11649905      ...                  0.0            0.0            0.0   \n",
       "\n",
       "          Interval_2874  Interval_2875  Interval_2876  Interval_2877  \\\n",
       "House ID                                                               \n",
       "11643173            0.0            0.0            0.0            0.0   \n",
       "11655020            0.0            0.0            0.0            0.0   \n",
       "11644367            0.0            0.0            0.0            0.0   \n",
       "11633356            0.0            0.0            0.0            0.0   \n",
       "11649905            0.0            0.0            0.0            0.0   \n",
       "\n",
       "          Interval_2878  Interval_2879  Interval_2880  \n",
       "House ID                                               \n",
       "11643173            0.0            0.0            0.0  \n",
       "11655020            0.0            0.0            0.0  \n",
       "11644367            0.0            0.0            0.0  \n",
       "11633356            0.0            0.0            0.0  \n",
       "11649905            0.0            0.0            0.0  \n",
       "\n",
       "[5 rows x 2880 columns]"
      ]
     },
     "execution_count": 27,
     "metadata": {},
     "output_type": "execute_result"
    }
   ],
   "source": [
    "submission = pd.DataFrame(submission, index = EV_test.index, columns = EV_test.columns )\n",
    "submission.head()"
   ]
  },
  {
   "cell_type": "code",
   "execution_count": 58,
   "metadata": {
    "collapsed": true
   },
   "outputs": [],
   "source": [
    "submission2 = clf2.predict_proba(EV_test.values)"
   ]
  },
  {
   "cell_type": "code",
   "execution_count": 59,
   "metadata": {
    "collapsed": true
   },
   "outputs": [],
   "source": [
    "count_positives2 = submission2 > 0.5"
   ]
  },
  {
   "cell_type": "code",
   "execution_count": 60,
   "metadata": {
    "collapsed": false
   },
   "outputs": [
    {
     "data": {
      "text/plain": [
       "0.0020063384199650292"
      ]
     },
     "execution_count": 60,
     "metadata": {},
     "output_type": "execute_result"
    }
   ],
   "source": [
    "count_positives2.sum()/2013120."
   ]
  },
  {
   "cell_type": "code",
   "execution_count": 61,
   "metadata": {
    "collapsed": false
   },
   "outputs": [
    {
     "data": {
      "text/html": [
       "<div>\n",
       "<table border=\"1\" class=\"dataframe\">\n",
       "  <thead>\n",
       "    <tr style=\"text-align: right;\">\n",
       "      <th></th>\n",
       "      <th>Interval_1</th>\n",
       "      <th>Interval_2</th>\n",
       "      <th>Interval_3</th>\n",
       "      <th>Interval_4</th>\n",
       "      <th>Interval_5</th>\n",
       "      <th>Interval_6</th>\n",
       "      <th>Interval_7</th>\n",
       "      <th>Interval_8</th>\n",
       "      <th>Interval_9</th>\n",
       "      <th>Interval_10</th>\n",
       "      <th>...</th>\n",
       "      <th>Interval_2871</th>\n",
       "      <th>Interval_2872</th>\n",
       "      <th>Interval_2873</th>\n",
       "      <th>Interval_2874</th>\n",
       "      <th>Interval_2875</th>\n",
       "      <th>Interval_2876</th>\n",
       "      <th>Interval_2877</th>\n",
       "      <th>Interval_2878</th>\n",
       "      <th>Interval_2879</th>\n",
       "      <th>Interval_2880</th>\n",
       "    </tr>\n",
       "    <tr>\n",
       "      <th>House ID</th>\n",
       "      <th></th>\n",
       "      <th></th>\n",
       "      <th></th>\n",
       "      <th></th>\n",
       "      <th></th>\n",
       "      <th></th>\n",
       "      <th></th>\n",
       "      <th></th>\n",
       "      <th></th>\n",
       "      <th></th>\n",
       "      <th></th>\n",
       "      <th></th>\n",
       "      <th></th>\n",
       "      <th></th>\n",
       "      <th></th>\n",
       "      <th></th>\n",
       "      <th></th>\n",
       "      <th></th>\n",
       "      <th></th>\n",
       "      <th></th>\n",
       "      <th></th>\n",
       "    </tr>\n",
       "  </thead>\n",
       "  <tbody>\n",
       "    <tr>\n",
       "      <th>11643173</th>\n",
       "      <td>0.000</td>\n",
       "      <td>0.002</td>\n",
       "      <td>0.003</td>\n",
       "      <td>0.003</td>\n",
       "      <td>0.001</td>\n",
       "      <td>0.006</td>\n",
       "      <td>0.005</td>\n",
       "      <td>0.002</td>\n",
       "      <td>0.004</td>\n",
       "      <td>0.002</td>\n",
       "      <td>...</td>\n",
       "      <td>0.0</td>\n",
       "      <td>0.0</td>\n",
       "      <td>0.0</td>\n",
       "      <td>0.0</td>\n",
       "      <td>0.0</td>\n",
       "      <td>0.0</td>\n",
       "      <td>0.0</td>\n",
       "      <td>0.0</td>\n",
       "      <td>0.0</td>\n",
       "      <td>0.0</td>\n",
       "    </tr>\n",
       "    <tr>\n",
       "      <th>11655020</th>\n",
       "      <td>0.014</td>\n",
       "      <td>0.015</td>\n",
       "      <td>0.022</td>\n",
       "      <td>0.018</td>\n",
       "      <td>0.016</td>\n",
       "      <td>0.016</td>\n",
       "      <td>0.025</td>\n",
       "      <td>0.029</td>\n",
       "      <td>0.036</td>\n",
       "      <td>0.030</td>\n",
       "      <td>...</td>\n",
       "      <td>0.0</td>\n",
       "      <td>0.0</td>\n",
       "      <td>0.0</td>\n",
       "      <td>0.0</td>\n",
       "      <td>0.0</td>\n",
       "      <td>0.0</td>\n",
       "      <td>0.0</td>\n",
       "      <td>0.0</td>\n",
       "      <td>0.0</td>\n",
       "      <td>0.0</td>\n",
       "    </tr>\n",
       "    <tr>\n",
       "      <th>11644367</th>\n",
       "      <td>0.000</td>\n",
       "      <td>0.001</td>\n",
       "      <td>0.003</td>\n",
       "      <td>0.012</td>\n",
       "      <td>0.013</td>\n",
       "      <td>0.016</td>\n",
       "      <td>0.012</td>\n",
       "      <td>0.006</td>\n",
       "      <td>0.004</td>\n",
       "      <td>0.001</td>\n",
       "      <td>...</td>\n",
       "      <td>0.0</td>\n",
       "      <td>0.0</td>\n",
       "      <td>0.0</td>\n",
       "      <td>0.0</td>\n",
       "      <td>0.0</td>\n",
       "      <td>0.0</td>\n",
       "      <td>0.0</td>\n",
       "      <td>0.0</td>\n",
       "      <td>0.0</td>\n",
       "      <td>0.0</td>\n",
       "    </tr>\n",
       "    <tr>\n",
       "      <th>11633356</th>\n",
       "      <td>0.001</td>\n",
       "      <td>0.002</td>\n",
       "      <td>0.009</td>\n",
       "      <td>0.012</td>\n",
       "      <td>0.009</td>\n",
       "      <td>0.011</td>\n",
       "      <td>0.018</td>\n",
       "      <td>0.007</td>\n",
       "      <td>0.013</td>\n",
       "      <td>0.005</td>\n",
       "      <td>...</td>\n",
       "      <td>0.0</td>\n",
       "      <td>0.0</td>\n",
       "      <td>0.0</td>\n",
       "      <td>0.0</td>\n",
       "      <td>0.0</td>\n",
       "      <td>0.0</td>\n",
       "      <td>0.0</td>\n",
       "      <td>0.0</td>\n",
       "      <td>0.0</td>\n",
       "      <td>0.0</td>\n",
       "    </tr>\n",
       "    <tr>\n",
       "      <th>11649905</th>\n",
       "      <td>0.000</td>\n",
       "      <td>0.000</td>\n",
       "      <td>0.002</td>\n",
       "      <td>0.005</td>\n",
       "      <td>0.005</td>\n",
       "      <td>0.002</td>\n",
       "      <td>0.016</td>\n",
       "      <td>0.004</td>\n",
       "      <td>0.010</td>\n",
       "      <td>0.004</td>\n",
       "      <td>...</td>\n",
       "      <td>0.0</td>\n",
       "      <td>0.0</td>\n",
       "      <td>0.0</td>\n",
       "      <td>0.0</td>\n",
       "      <td>0.0</td>\n",
       "      <td>0.0</td>\n",
       "      <td>0.0</td>\n",
       "      <td>0.0</td>\n",
       "      <td>0.0</td>\n",
       "      <td>0.0</td>\n",
       "    </tr>\n",
       "  </tbody>\n",
       "</table>\n",
       "<p>5 rows × 2880 columns</p>\n",
       "</div>"
      ],
      "text/plain": [
       "          Interval_1  Interval_2  Interval_3  Interval_4  Interval_5  \\\n",
       "House ID                                                               \n",
       "11643173       0.000       0.002       0.003       0.003       0.001   \n",
       "11655020       0.014       0.015       0.022       0.018       0.016   \n",
       "11644367       0.000       0.001       0.003       0.012       0.013   \n",
       "11633356       0.001       0.002       0.009       0.012       0.009   \n",
       "11649905       0.000       0.000       0.002       0.005       0.005   \n",
       "\n",
       "          Interval_6  Interval_7  Interval_8  Interval_9  Interval_10  \\\n",
       "House ID                                                                \n",
       "11643173       0.006       0.005       0.002       0.004        0.002   \n",
       "11655020       0.016       0.025       0.029       0.036        0.030   \n",
       "11644367       0.016       0.012       0.006       0.004        0.001   \n",
       "11633356       0.011       0.018       0.007       0.013        0.005   \n",
       "11649905       0.002       0.016       0.004       0.010        0.004   \n",
       "\n",
       "              ...        Interval_2871  Interval_2872  Interval_2873  \\\n",
       "House ID      ...                                                      \n",
       "11643173      ...                  0.0            0.0            0.0   \n",
       "11655020      ...                  0.0            0.0            0.0   \n",
       "11644367      ...                  0.0            0.0            0.0   \n",
       "11633356      ...                  0.0            0.0            0.0   \n",
       "11649905      ...                  0.0            0.0            0.0   \n",
       "\n",
       "          Interval_2874  Interval_2875  Interval_2876  Interval_2877  \\\n",
       "House ID                                                               \n",
       "11643173            0.0            0.0            0.0            0.0   \n",
       "11655020            0.0            0.0            0.0            0.0   \n",
       "11644367            0.0            0.0            0.0            0.0   \n",
       "11633356            0.0            0.0            0.0            0.0   \n",
       "11649905            0.0            0.0            0.0            0.0   \n",
       "\n",
       "          Interval_2878  Interval_2879  Interval_2880  \n",
       "House ID                                               \n",
       "11643173            0.0            0.0            0.0  \n",
       "11655020            0.0            0.0            0.0  \n",
       "11644367            0.0            0.0            0.0  \n",
       "11633356            0.0            0.0            0.0  \n",
       "11649905            0.0            0.0            0.0  \n",
       "\n",
       "[5 rows x 2880 columns]"
      ]
     },
     "execution_count": 61,
     "metadata": {},
     "output_type": "execute_result"
    }
   ],
   "source": [
    "submission2 = pd.DataFrame(submission2, index = EV_test.index, columns = EV_test.columns )\n",
    "submission2.head()"
   ]
  },
  {
   "cell_type": "markdown",
   "metadata": {},
   "source": [
    "I feel the models are performing fairly well. The recall is showing a good metric. However, the precision needs to be improved in both cases. The accuracy is also good, but is not the best indicator of performance in this case. This is because the intervals of which an EV is charging are rare events and if I classified everything as a zero, it could potentially still have a high level of accuracy. The model trained on just the households with EV's seems to be predicting more ones. However, I would argue that this model understands the behavior of charging for these housholds better than the other model.   "
   ]
  },
  {
   "cell_type": "code",
   "execution_count": 63,
   "metadata": {
    "collapsed": false
   },
   "outputs": [],
   "source": [
    "submission.to_csv('submission.csv')"
   ]
  },
  {
   "cell_type": "code",
   "execution_count": 66,
   "metadata": {
    "collapsed": false
   },
   "outputs": [],
   "source": [
    "EV_household_classification = pd.DataFrame(check_ones, index = EV_test.index, columns = ['Has_EV?'] )\n",
    "EV_household_classification.to_csv('EV_household_classification.csv')"
   ]
  },
  {
   "cell_type": "code",
   "execution_count": 62,
   "metadata": {
    "collapsed": false
   },
   "outputs": [
    {
     "data": {
      "text/html": [
       "<style>\n",
       "\n",
       "html {\n",
       "  font-size: 62.5% !important; }\n",
       "body {\n",
       "  font-size: 1.5em !important; /* currently ems cause chrome bug misinterpreting rems on body element */\n",
       "  line-height: 1.6 !important;\n",
       "  font-weight: 400 !important;\n",
       "  font-family: \"Raleway\", \"HelveticaNeue\", \"Helvetica Neue\", Helvetica, Arial, sans-serif !important;\n",
       "  color: #222 !important; }\n",
       "\n",
       "div{ border-radius: 0px !important;  }\n",
       "div.CodeMirror-sizer{ background: rgb(244, 244, 248) !important; }\n",
       "div.input_area{ background: rgb(244, 244, 248) !important; }\n",
       "\n",
       "div.out_prompt_overlay:hover{ background: rgb(244, 244, 248) !important; }\n",
       "div.input_prompt:hover{ background: rgb(244, 244, 248) !important; }\n",
       "\n",
       "h1, h2, h3, h4, h5, h6 {\n",
       "  color: #333 !important;\n",
       "  margin-top: 0 !important;\n",
       "  margin-bottom: 2rem !important;\n",
       "  font-weight: 300 !important; }\n",
       "h1 { font-size: 4.0rem !important; line-height: 1.2 !important;  letter-spacing: -.1rem !important;}\n",
       "h2 { font-size: 3.6rem !important; line-height: 1.25 !important; letter-spacing: -.1rem !important; }\n",
       "h3 { font-size: 3.0rem !important; line-height: 1.3 !important;  letter-spacing: -.1rem !important; }\n",
       "h4 { font-size: 2.4rem !important; line-height: 1.35 !important; letter-spacing: -.08rem !important; }\n",
       "h5 { font-size: 1.8rem !important; line-height: 1.5 !important;  letter-spacing: -.05rem !important; }\n",
       "h6 { font-size: 1.5rem !important; line-height: 1.6 !important;  letter-spacing: 0 !important; }\n",
       "\n",
       "@media (min-width: 550px) {\n",
       "  h1 { font-size: 5.0rem !important; }\n",
       "  h2 { font-size: 4.2rem !important; }\n",
       "  h3 { font-size: 3.6rem !important; }\n",
       "  h4 { font-size: 3.0rem !important; }\n",
       "  h5 { font-size: 2.4rem !important; }\n",
       "  h6 { font-size: 1.5rem !important; }\n",
       "}\n",
       "\n",
       "p {\n",
       "  margin-top: 0 !important; }\n",
       "  \n",
       "a {\n",
       "  color: #1EAEDB !important; }\n",
       "a:hover {\n",
       "  color: #0FA0CE !important; }\n",
       "  \n",
       "code {\n",
       "  padding: .2rem .5rem !important;\n",
       "  margin: 0 .2rem !important;\n",
       "  font-size: 90% !important;\n",
       "  white-space: nowrap !important;\n",
       "  background: #F1F1F1 !important;\n",
       "  border: 1px solid #E1E1E1 !important;\n",
       "  border-radius: 4px !important; }\n",
       "pre > code {\n",
       "  display: block !important;\n",
       "  padding: 1rem 1.5rem !important;\n",
       "  white-space: pre !important; }\n",
       "  \n",
       "button{ border-radius: 0px !important; }\n",
       ".navbar-inner{ background-image: none !important;  }\n",
       "select, textarea{ border-radius: 0px !important; }\n",
       "\n",
       "</style>"
      ],
      "text/plain": [
       "<IPython.core.display.HTML object>"
      ]
     },
     "execution_count": 62,
     "metadata": {},
     "output_type": "execute_result"
    }
   ],
   "source": [
    "from IPython.core.display import HTML #Make pretty\n",
    "import urllib2\n",
    "HTML(urllib2.urlopen('http://bit.ly/1Bf5Hft').read())"
   ]
  }
 ],
 "metadata": {
  "kernelspec": {
   "display_name": "Python 2",
   "language": "python",
   "name": "python2"
  },
  "language_info": {
   "codemirror_mode": {
    "name": "ipython",
    "version": 2
   },
   "file_extension": ".py",
   "mimetype": "text/x-python",
   "name": "python",
   "nbconvert_exporter": "python",
   "pygments_lexer": "ipython2",
   "version": "2.7.11"
  }
 },
 "nbformat": 4,
 "nbformat_minor": 0
}
